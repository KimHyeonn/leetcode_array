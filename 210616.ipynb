{
 "cells": [
  {
   "cell_type": "markdown",
   "metadata": {},
   "source": [
    "1. 로지스틱 회귀\n",
    "\n",
    "알고싶은 함수 ; (wx+b)\n",
    "\n",
    "\n",
    "\n",
    "시그모이드 함수 ;\n",
    "1/(1+e^-x)\n",
    "\n",
    "\n",
    "베르누이 이항분포 ;\n",
    "P\n",
    "\n",
    "\n",
    "Odds ratio ;\n",
    "P/1-P\n",
    "\n",
    "\n",
    "로짓 변환 ;\n",
    "logit\n",
    "\n",
    "\n",
    "\n",
    "2. 차원축소"
   ]
  },
  {
   "cell_type": "markdown",
   "metadata": {},
   "source": [
    "## Logistic Regression\n",
    "- Parameter C 를 조정해 과대적합 혹은 과소적합 문제를 해결\n",
    "- C(cost function) 값이 크면(높은 코스트) --> 훈련을 더 복잡하게 -->약한 규제\n",
    "- C값이 작으면(낮은 코스트) --> 훈련을 덜 복잡하게 --> 강한 규제  \n",
    "l1 l2 규제"
   ]
  },
  {
   "cell_type": "code",
   "execution_count": 1,
   "metadata": {},
   "outputs": [],
   "source": [
    "from sklearn.linear_model import LogisticRegression\n",
    "from sklearn import datasets\n",
    "from sklearn.model_selection import train_test_split\n",
    "import matplotlib.pyplot as plt\n",
    "import numpy as np\n",
    "import pandas as pd"
   ]
  },
  {
   "cell_type": "code",
   "execution_count": 2,
   "metadata": {},
   "outputs": [
    {
     "data": {
      "text/plain": [
       "\u001b[1;31mInit signature:\u001b[0m\n",
       "\u001b[0mLogisticRegression\u001b[0m\u001b[1;33m(\u001b[0m\u001b[1;33m\n",
       "\u001b[0m    \u001b[0mpenalty\u001b[0m\u001b[1;33m=\u001b[0m\u001b[1;34m'l2'\u001b[0m\u001b[1;33m,\u001b[0m\u001b[1;33m\n",
       "\u001b[0m    \u001b[1;33m*\u001b[0m\u001b[1;33m,\u001b[0m\u001b[1;33m\n",
       "\u001b[0m    \u001b[0mdual\u001b[0m\u001b[1;33m=\u001b[0m\u001b[1;32mFalse\u001b[0m\u001b[1;33m,\u001b[0m\u001b[1;33m\n",
       "\u001b[0m    \u001b[0mtol\u001b[0m\u001b[1;33m=\u001b[0m\u001b[1;36m0.0001\u001b[0m\u001b[1;33m,\u001b[0m\u001b[1;33m\n",
       "\u001b[0m    \u001b[0mC\u001b[0m\u001b[1;33m=\u001b[0m\u001b[1;36m1.0\u001b[0m\u001b[1;33m,\u001b[0m\u001b[1;33m\n",
       "\u001b[0m    \u001b[0mfit_intercept\u001b[0m\u001b[1;33m=\u001b[0m\u001b[1;32mTrue\u001b[0m\u001b[1;33m,\u001b[0m\u001b[1;33m\n",
       "\u001b[0m    \u001b[0mintercept_scaling\u001b[0m\u001b[1;33m=\u001b[0m\u001b[1;36m1\u001b[0m\u001b[1;33m,\u001b[0m\u001b[1;33m\n",
       "\u001b[0m    \u001b[0mclass_weight\u001b[0m\u001b[1;33m=\u001b[0m\u001b[1;32mNone\u001b[0m\u001b[1;33m,\u001b[0m\u001b[1;33m\n",
       "\u001b[0m    \u001b[0mrandom_state\u001b[0m\u001b[1;33m=\u001b[0m\u001b[1;32mNone\u001b[0m\u001b[1;33m,\u001b[0m\u001b[1;33m\n",
       "\u001b[0m    \u001b[0msolver\u001b[0m\u001b[1;33m=\u001b[0m\u001b[1;34m'lbfgs'\u001b[0m\u001b[1;33m,\u001b[0m\u001b[1;33m\n",
       "\u001b[0m    \u001b[0mmax_iter\u001b[0m\u001b[1;33m=\u001b[0m\u001b[1;36m100\u001b[0m\u001b[1;33m,\u001b[0m\u001b[1;33m\n",
       "\u001b[0m    \u001b[0mmulti_class\u001b[0m\u001b[1;33m=\u001b[0m\u001b[1;34m'auto'\u001b[0m\u001b[1;33m,\u001b[0m\u001b[1;33m\n",
       "\u001b[0m    \u001b[0mverbose\u001b[0m\u001b[1;33m=\u001b[0m\u001b[1;36m0\u001b[0m\u001b[1;33m,\u001b[0m\u001b[1;33m\n",
       "\u001b[0m    \u001b[0mwarm_start\u001b[0m\u001b[1;33m=\u001b[0m\u001b[1;32mFalse\u001b[0m\u001b[1;33m,\u001b[0m\u001b[1;33m\n",
       "\u001b[0m    \u001b[0mn_jobs\u001b[0m\u001b[1;33m=\u001b[0m\u001b[1;32mNone\u001b[0m\u001b[1;33m,\u001b[0m\u001b[1;33m\n",
       "\u001b[0m    \u001b[0ml1_ratio\u001b[0m\u001b[1;33m=\u001b[0m\u001b[1;32mNone\u001b[0m\u001b[1;33m,\u001b[0m\u001b[1;33m\n",
       "\u001b[0m\u001b[1;33m)\u001b[0m\u001b[1;33m\u001b[0m\u001b[1;33m\u001b[0m\u001b[0m\n",
       "\u001b[1;31mDocstring:\u001b[0m     \n",
       "Logistic Regression (aka logit, MaxEnt) classifier.\n",
       "\n",
       "In the multiclass case, the training algorithm uses the one-vs-rest (OvR)\n",
       "scheme if the 'multi_class' option is set to 'ovr', and uses the\n",
       "cross-entropy loss if the 'multi_class' option is set to 'multinomial'.\n",
       "(Currently the 'multinomial' option is supported only by the 'lbfgs',\n",
       "'sag', 'saga' and 'newton-cg' solvers.)\n",
       "\n",
       "This class implements regularized logistic regression using the\n",
       "'liblinear' library, 'newton-cg', 'sag', 'saga' and 'lbfgs' solvers. **Note\n",
       "that regularization is applied by default**. It can handle both dense\n",
       "and sparse input. Use C-ordered arrays or CSR matrices containing 64-bit\n",
       "floats for optimal performance; any other input format will be converted\n",
       "(and copied).\n",
       "\n",
       "The 'newton-cg', 'sag', and 'lbfgs' solvers support only L2 regularization\n",
       "with primal formulation, or no regularization. The 'liblinear' solver\n",
       "supports both L1 and L2 regularization, with a dual formulation only for\n",
       "the L2 penalty. The Elastic-Net regularization is only supported by the\n",
       "'saga' solver.\n",
       "\n",
       "Read more in the :ref:`User Guide <logistic_regression>`.\n",
       "\n",
       "Parameters\n",
       "----------\n",
       "penalty : {'l1', 'l2', 'elasticnet', 'none'}, default='l2'\n",
       "    Used to specify the norm used in the penalization. The 'newton-cg',\n",
       "    'sag' and 'lbfgs' solvers support only l2 penalties. 'elasticnet' is\n",
       "    only supported by the 'saga' solver. If 'none' (not supported by the\n",
       "    liblinear solver), no regularization is applied.\n",
       "\n",
       "    .. versionadded:: 0.19\n",
       "       l1 penalty with SAGA solver (allowing 'multinomial' + L1)\n",
       "\n",
       "dual : bool, default=False\n",
       "    Dual or primal formulation. Dual formulation is only implemented for\n",
       "    l2 penalty with liblinear solver. Prefer dual=False when\n",
       "    n_samples > n_features.\n",
       "\n",
       "tol : float, default=1e-4\n",
       "    Tolerance for stopping criteria.\n",
       "\n",
       "C : float, default=1.0\n",
       "    Inverse of regularization strength; must be a positive float.\n",
       "    Like in support vector machines, smaller values specify stronger\n",
       "    regularization.\n",
       "\n",
       "fit_intercept : bool, default=True\n",
       "    Specifies if a constant (a.k.a. bias or intercept) should be\n",
       "    added to the decision function.\n",
       "\n",
       "intercept_scaling : float, default=1\n",
       "    Useful only when the solver 'liblinear' is used\n",
       "    and self.fit_intercept is set to True. In this case, x becomes\n",
       "    [x, self.intercept_scaling],\n",
       "    i.e. a \"synthetic\" feature with constant value equal to\n",
       "    intercept_scaling is appended to the instance vector.\n",
       "    The intercept becomes ``intercept_scaling * synthetic_feature_weight``.\n",
       "\n",
       "    Note! the synthetic feature weight is subject to l1/l2 regularization\n",
       "    as all other features.\n",
       "    To lessen the effect of regularization on synthetic feature weight\n",
       "    (and therefore on the intercept) intercept_scaling has to be increased.\n",
       "\n",
       "class_weight : dict or 'balanced', default=None\n",
       "    Weights associated with classes in the form ``{class_label: weight}``.\n",
       "    If not given, all classes are supposed to have weight one.\n",
       "\n",
       "    The \"balanced\" mode uses the values of y to automatically adjust\n",
       "    weights inversely proportional to class frequencies in the input data\n",
       "    as ``n_samples / (n_classes * np.bincount(y))``.\n",
       "\n",
       "    Note that these weights will be multiplied with sample_weight (passed\n",
       "    through the fit method) if sample_weight is specified.\n",
       "\n",
       "    .. versionadded:: 0.17\n",
       "       *class_weight='balanced'*\n",
       "\n",
       "random_state : int, RandomState instance, default=None\n",
       "    Used when ``solver`` == 'sag', 'saga' or 'liblinear' to shuffle the\n",
       "    data. See :term:`Glossary <random_state>` for details.\n",
       "\n",
       "solver : {'newton-cg', 'lbfgs', 'liblinear', 'sag', 'saga'},             default='lbfgs'\n",
       "\n",
       "    Algorithm to use in the optimization problem.\n",
       "\n",
       "    - For small datasets, 'liblinear' is a good choice, whereas 'sag' and\n",
       "      'saga' are faster for large ones.\n",
       "    - For multiclass problems, only 'newton-cg', 'sag', 'saga' and 'lbfgs'\n",
       "      handle multinomial loss; 'liblinear' is limited to one-versus-rest\n",
       "      schemes.\n",
       "    - 'newton-cg', 'lbfgs', 'sag' and 'saga' handle L2 or no penalty\n",
       "    - 'liblinear' and 'saga' also handle L1 penalty\n",
       "    - 'saga' also supports 'elasticnet' penalty\n",
       "    - 'liblinear' does not support setting ``penalty='none'``\n",
       "\n",
       "    Note that 'sag' and 'saga' fast convergence is only guaranteed on\n",
       "    features with approximately the same scale. You can\n",
       "    preprocess the data with a scaler from sklearn.preprocessing.\n",
       "\n",
       "    .. versionadded:: 0.17\n",
       "       Stochastic Average Gradient descent solver.\n",
       "    .. versionadded:: 0.19\n",
       "       SAGA solver.\n",
       "    .. versionchanged:: 0.22\n",
       "        The default solver changed from 'liblinear' to 'lbfgs' in 0.22.\n",
       "\n",
       "max_iter : int, default=100\n",
       "    Maximum number of iterations taken for the solvers to converge.\n",
       "\n",
       "multi_class : {'auto', 'ovr', 'multinomial'}, default='auto'\n",
       "    If the option chosen is 'ovr', then a binary problem is fit for each\n",
       "    label. For 'multinomial' the loss minimised is the multinomial loss fit\n",
       "    across the entire probability distribution, *even when the data is\n",
       "    binary*. 'multinomial' is unavailable when solver='liblinear'.\n",
       "    'auto' selects 'ovr' if the data is binary, or if solver='liblinear',\n",
       "    and otherwise selects 'multinomial'.\n",
       "\n",
       "    .. versionadded:: 0.18\n",
       "       Stochastic Average Gradient descent solver for 'multinomial' case.\n",
       "    .. versionchanged:: 0.22\n",
       "        Default changed from 'ovr' to 'auto' in 0.22.\n",
       "\n",
       "verbose : int, default=0\n",
       "    For the liblinear and lbfgs solvers set verbose to any positive\n",
       "    number for verbosity.\n",
       "\n",
       "warm_start : bool, default=False\n",
       "    When set to True, reuse the solution of the previous call to fit as\n",
       "    initialization, otherwise, just erase the previous solution.\n",
       "    Useless for liblinear solver. See :term:`the Glossary <warm_start>`.\n",
       "\n",
       "    .. versionadded:: 0.17\n",
       "       *warm_start* to support *lbfgs*, *newton-cg*, *sag*, *saga* solvers.\n",
       "\n",
       "n_jobs : int, default=None\n",
       "    Number of CPU cores used when parallelizing over classes if\n",
       "    multi_class='ovr'\". This parameter is ignored when the ``solver`` is\n",
       "    set to 'liblinear' regardless of whether 'multi_class' is specified or\n",
       "    not. ``None`` means 1 unless in a :obj:`joblib.parallel_backend`\n",
       "    context. ``-1`` means using all processors.\n",
       "    See :term:`Glossary <n_jobs>` for more details.\n",
       "\n",
       "l1_ratio : float, default=None\n",
       "    The Elastic-Net mixing parameter, with ``0 <= l1_ratio <= 1``. Only\n",
       "    used if ``penalty='elasticnet'``. Setting ``l1_ratio=0`` is equivalent\n",
       "    to using ``penalty='l2'``, while setting ``l1_ratio=1`` is equivalent\n",
       "    to using ``penalty='l1'``. For ``0 < l1_ratio <1``, the penalty is a\n",
       "    combination of L1 and L2.\n",
       "\n",
       "Attributes\n",
       "----------\n",
       "\n",
       "classes_ : ndarray of shape (n_classes, )\n",
       "    A list of class labels known to the classifier.\n",
       "\n",
       "coef_ : ndarray of shape (1, n_features) or (n_classes, n_features)\n",
       "    Coefficient of the features in the decision function.\n",
       "\n",
       "    `coef_` is of shape (1, n_features) when the given problem is binary.\n",
       "    In particular, when `multi_class='multinomial'`, `coef_` corresponds\n",
       "    to outcome 1 (True) and `-coef_` corresponds to outcome 0 (False).\n",
       "\n",
       "intercept_ : ndarray of shape (1,) or (n_classes,)\n",
       "    Intercept (a.k.a. bias) added to the decision function.\n",
       "\n",
       "    If `fit_intercept` is set to False, the intercept is set to zero.\n",
       "    `intercept_` is of shape (1,) when the given problem is binary.\n",
       "    In particular, when `multi_class='multinomial'`, `intercept_`\n",
       "    corresponds to outcome 1 (True) and `-intercept_` corresponds to\n",
       "    outcome 0 (False).\n",
       "\n",
       "n_iter_ : ndarray of shape (n_classes,) or (1, )\n",
       "    Actual number of iterations for all classes. If binary or multinomial,\n",
       "    it returns only 1 element. For liblinear solver, only the maximum\n",
       "    number of iteration across all classes is given.\n",
       "\n",
       "    .. versionchanged:: 0.20\n",
       "\n",
       "        In SciPy <= 1.0.0 the number of lbfgs iterations may exceed\n",
       "        ``max_iter``. ``n_iter_`` will now report at most ``max_iter``.\n",
       "\n",
       "See Also\n",
       "--------\n",
       "SGDClassifier : Incrementally trained logistic regression (when given\n",
       "    the parameter ``loss=\"log\"``).\n",
       "LogisticRegressionCV : Logistic regression with built-in cross validation.\n",
       "\n",
       "Notes\n",
       "-----\n",
       "The underlying C implementation uses a random number generator to\n",
       "select features when fitting the model. It is thus not uncommon,\n",
       "to have slightly different results for the same input data. If\n",
       "that happens, try with a smaller tol parameter.\n",
       "\n",
       "Predict output may not match that of standalone liblinear in certain\n",
       "cases. See :ref:`differences from liblinear <liblinear_differences>`\n",
       "in the narrative documentation.\n",
       "\n",
       "References\n",
       "----------\n",
       "\n",
       "L-BFGS-B -- Software for Large-scale Bound-constrained Optimization\n",
       "    Ciyou Zhu, Richard Byrd, Jorge Nocedal and Jose Luis Morales.\n",
       "    http://users.iems.northwestern.edu/~nocedal/lbfgsb.html\n",
       "\n",
       "LIBLINEAR -- A Library for Large Linear Classification\n",
       "    https://www.csie.ntu.edu.tw/~cjlin/liblinear/\n",
       "\n",
       "SAG -- Mark Schmidt, Nicolas Le Roux, and Francis Bach\n",
       "    Minimizing Finite Sums with the Stochastic Average Gradient\n",
       "    https://hal.inria.fr/hal-00860051/document\n",
       "\n",
       "SAGA -- Defazio, A., Bach F. & Lacoste-Julien S. (2014).\n",
       "    SAGA: A Fast Incremental Gradient Method With Support\n",
       "    for Non-Strongly Convex Composite Objectives\n",
       "    https://arxiv.org/abs/1407.0202\n",
       "\n",
       "Hsiang-Fu Yu, Fang-Lan Huang, Chih-Jen Lin (2011). Dual coordinate descent\n",
       "    methods for logistic regression and maximum entropy models.\n",
       "    Machine Learning 85(1-2):41-75.\n",
       "    https://www.csie.ntu.edu.tw/~cjlin/papers/maxent_dual.pdf\n",
       "\n",
       "Examples\n",
       "--------\n",
       ">>> from sklearn.datasets import load_iris\n",
       ">>> from sklearn.linear_model import LogisticRegression\n",
       ">>> X, y = load_iris(return_X_y=True)\n",
       ">>> clf = LogisticRegression(random_state=0).fit(X, y)\n",
       ">>> clf.predict(X[:2, :])\n",
       "array([0, 0])\n",
       ">>> clf.predict_proba(X[:2, :])\n",
       "array([[9.8...e-01, 1.8...e-02, 1.4...e-08],\n",
       "       [9.7...e-01, 2.8...e-02, ...e-08]])\n",
       ">>> clf.score(X, y)\n",
       "0.97...\n",
       "\u001b[1;31mFile:\u001b[0m           c:\\users\\admin\\anaconda3\\lib\\site-packages\\sklearn\\linear_model\\_logistic.py\n",
       "\u001b[1;31mType:\u001b[0m           type\n",
       "\u001b[1;31mSubclasses:\u001b[0m     LogisticRegressionCV\n"
      ]
     },
     "metadata": {},
     "output_type": "display_data"
    }
   ],
   "source": [
    "?LogisticRegression"
   ]
  },
  {
   "cell_type": "code",
   "execution_count": 3,
   "metadata": {},
   "outputs": [],
   "source": [
    "iris_dataset = datasets.load_iris()"
   ]
  },
  {
   "cell_type": "code",
   "execution_count": 4,
   "metadata": {},
   "outputs": [],
   "source": [
    "#데이터 분할 - 이항분류\n",
    "X = iris_dataset.data[50:,:]\n",
    "y = iris_dataset.target[50:]\n",
    "\n",
    "X_train, X_test, y_train, y_test = train_test_split(X,y,test_size = 0.3, random_state = 58)"
   ]
  },
  {
   "cell_type": "code",
   "execution_count": 5,
   "metadata": {},
   "outputs": [
    {
     "data": {
      "text/plain": [
       "(70, 4)"
      ]
     },
     "execution_count": 5,
     "metadata": {},
     "output_type": "execute_result"
    }
   ],
   "source": [
    "X_train.shape"
   ]
  },
  {
   "cell_type": "code",
   "execution_count": 6,
   "metadata": {},
   "outputs": [],
   "source": [
    "logreg = LogisticRegression().fit(X_train,y_train)"
   ]
  },
  {
   "cell_type": "code",
   "execution_count": 13,
   "metadata": {},
   "outputs": [
    {
     "data": {
      "text/plain": [
       "{'C': 1.0,\n",
       " 'class_weight': None,\n",
       " 'dual': False,\n",
       " 'fit_intercept': True,\n",
       " 'intercept_scaling': 1,\n",
       " 'l1_ratio': None,\n",
       " 'max_iter': 100,\n",
       " 'multi_class': 'auto',\n",
       " 'n_jobs': None,\n",
       " 'penalty': 'l2',\n",
       " 'random_state': None,\n",
       " 'solver': 'lbfgs',\n",
       " 'tol': 0.0001,\n",
       " 'verbose': 0,\n",
       " 'warm_start': False}"
      ]
     },
     "execution_count": 13,
     "metadata": {},
     "output_type": "execute_result"
    }
   ],
   "source": [
    "logreg.get_params()"
   ]
  },
  {
   "cell_type": "code",
   "execution_count": 14,
   "metadata": {},
   "outputs": [
    {
     "name": "stdout",
     "output_type": "stream",
     "text": [
      "훈련 세트 점수 : 0.957\n",
      "테스트 세트 점수 : 0.933\n"
     ]
    }
   ],
   "source": [
    "print('훈련 세트 점수 : {:.3f}'.format(logreg.score(X_train,y_train)))\n",
    "print('테스트 세트 점수 : {:.3f}'.format(logreg.score(X_test,y_test)))"
   ]
  },
  {
   "cell_type": "code",
   "execution_count": 15,
   "metadata": {},
   "outputs": [],
   "source": [
    "logreg001 = LogisticRegression(solver = 'lbfgs',C=0.01).fit(X_train,y_train)\n",
    "logreg100 = LogisticRegression(solver = 'lbfgs',C=100).fit(X_train,y_train)"
   ]
  },
  {
   "cell_type": "code",
   "execution_count": 16,
   "metadata": {},
   "outputs": [
    {
     "data": {
      "text/plain": [
       "LogisticRegression(C=0.01)"
      ]
     },
     "execution_count": 16,
     "metadata": {},
     "output_type": "execute_result"
    }
   ],
   "source": [
    "logreg001"
   ]
  },
  {
   "cell_type": "code",
   "execution_count": 17,
   "metadata": {},
   "outputs": [
    {
     "data": {
      "text/plain": [
       "LogisticRegression(C=100)"
      ]
     },
     "execution_count": 17,
     "metadata": {},
     "output_type": "execute_result"
    }
   ],
   "source": [
    "logreg100"
   ]
  },
  {
   "cell_type": "code",
   "execution_count": 18,
   "metadata": {},
   "outputs": [],
   "source": [
    "#5.1 C = 0.01 결과 비교 -> 낮은 코스트 -> 훈련 덜 복잡 -> 강한 규제 -> 과소적합\n",
    "#5.2 C = 100 결과 비교 -> 높은 코스트 -> 훈련더 복잡 -> 약한규제 -> 과대적합"
   ]
  },
  {
   "cell_type": "code",
   "execution_count": 19,
   "metadata": {},
   "outputs": [
    {
     "name": "stdout",
     "output_type": "stream",
     "text": [
      "훈련 세트 점수 : 0.914\n",
      "테스트 세트 점수 : 0.900\n",
      "훈련 세트 점수 : 0.986\n",
      "테스트 세트 점수 : 0.900\n"
     ]
    }
   ],
   "source": [
    "print('훈련 세트 점수 : {:.3f}'.format(logreg001.score(X_train,y_train)))\n",
    "print('테스트 세트 점수 : {:.3f}'.format(logreg001.score(X_test,y_test)))\n",
    "print('훈련 세트 점수 : {:.3f}'.format(logreg100.score(X_train,y_train)))\n",
    "print('테스트 세트 점수 : {:.3f}'.format(logreg100.score(X_test,y_test)))"
   ]
  },
  {
   "cell_type": "code",
   "execution_count": 20,
   "metadata": {},
   "outputs": [
    {
     "data": {
      "text/plain": [
       "array([[-0.10421167, -0.26898011,  2.61548484,  2.18239913]])"
      ]
     },
     "execution_count": 20,
     "metadata": {},
     "output_type": "execute_result"
    }
   ],
   "source": [
    "logreg.coef_"
   ]
  },
  {
   "cell_type": "code",
   "execution_count": 21,
   "metadata": {},
   "outputs": [
    {
     "data": {
      "text/plain": [
       "array([-0.52105834, -0.69821817, -0.687797  , -0.57316417, -0.7190605 ,\n",
       "       -0.5940065 , -0.62527   , -0.69821817, -0.6565335 , -0.67737584,\n",
       "       -0.61484884, -0.60442767, -0.82327217, -0.6565335 , -0.51063717,\n",
       "       -0.57316417, -0.64611234, -0.67737584, -0.60442767, -0.6565335 ,\n",
       "       -0.58358534, -0.750324  , -0.70863934, -0.69821817, -0.6565335 ,\n",
       "       -0.66695467, -0.6565335 , -0.58358534, -0.51063717, -0.76074517])"
      ]
     },
     "execution_count": 21,
     "metadata": {},
     "output_type": "execute_result"
    }
   ],
   "source": [
    "logreg.coef_[0][0]*X_test[:,0]"
   ]
  },
  {
   "cell_type": "code",
   "execution_count": 24,
   "metadata": {},
   "outputs": [
    {
     "data": {
      "text/plain": [
       "array([[1. ],\n",
       "       [1.8],\n",
       "       [1.3],\n",
       "       [1. ],\n",
       "       [2.3],\n",
       "       [1.2],\n",
       "       [1.5],\n",
       "       [2.3],\n",
       "       [2.5],\n",
       "       [1.5],\n",
       "       [1.8],\n",
       "       [1.2],\n",
       "       [2. ],\n",
       "       [1.8],\n",
       "       [1.7],\n",
       "       [1.1],\n",
       "       [1.8],\n",
       "       [2. ],\n",
       "       [1. ],\n",
       "       [2.4],\n",
       "       [1.5],\n",
       "       [1.8],\n",
       "       [1.4],\n",
       "       [1.4],\n",
       "       [1.5],\n",
       "       [2.3],\n",
       "       [1.5],\n",
       "       [1.1],\n",
       "       [1. ],\n",
       "       [1.8]])"
      ]
     },
     "execution_count": 24,
     "metadata": {},
     "output_type": "execute_result"
    }
   ],
   "source": [
    "X_test[:,np.newaxis,3]"
   ]
  },
  {
   "cell_type": "code",
   "execution_count": 23,
   "metadata": {},
   "outputs": [
    {
     "data": {
      "text/plain": [
       "array([[5. , 2.3, 3.3, 1. ],\n",
       "       [6.7, 2.5, 5.8, 1.8],\n",
       "       [6.6, 2.9, 4.6, 1.3],\n",
       "       [5.5, 2.4, 3.7, 1. ],\n",
       "       [6.9, 3.2, 5.7, 2.3],\n",
       "       [5.7, 3. , 4.2, 1.2],\n",
       "       [6. , 2.2, 5. , 1.5],\n",
       "       [6.7, 3. , 5.2, 2.3],\n",
       "       [6.3, 3.3, 6. , 2.5],\n",
       "       [6.5, 2.8, 4.6, 1.5],\n",
       "       [5.9, 3.2, 4.8, 1.8],\n",
       "       [5.8, 2.6, 4. , 1.2],\n",
       "       [7.9, 3.8, 6.4, 2. ],\n",
       "       [6.3, 2.9, 5.6, 1.8],\n",
       "       [4.9, 2.5, 4.5, 1.7],\n",
       "       [5.5, 2.4, 3.8, 1.1],\n",
       "       [6.2, 2.8, 4.8, 1.8],\n",
       "       [6.5, 3.2, 5.1, 2. ],\n",
       "       [5.8, 2.7, 4.1, 1. ],\n",
       "       [6.3, 3.4, 5.6, 2.4],\n",
       "       [5.6, 3. , 4.5, 1.5],\n",
       "       [7.2, 3.2, 6. , 1.8],\n",
       "       [6.8, 2.8, 4.8, 1.4],\n",
       "       [6.7, 3.1, 4.4, 1.4],\n",
       "       [6.3, 2.8, 5.1, 1.5],\n",
       "       [6.4, 3.2, 5.3, 2.3],\n",
       "       [6.3, 2.5, 4.9, 1.5],\n",
       "       [5.6, 2.5, 3.9, 1.1],\n",
       "       [4.9, 2.4, 3.3, 1. ],\n",
       "       [7.3, 2.9, 6.3, 1.8]])"
      ]
     },
     "execution_count": 23,
     "metadata": {},
     "output_type": "execute_result"
    }
   ],
   "source": [
    "X_test"
   ]
  },
  {
   "cell_type": "code",
   "execution_count": 25,
   "metadata": {},
   "outputs": [
    {
     "data": {
      "text/plain": [
       "array([[-5.4217152 ],\n",
       "       [ 2.63196034],\n",
       "       [-1.6949919 ],\n",
       "       [-4.45452511],\n",
       "       [ 3.25248302],\n",
       "       [-2.89253326],\n",
       "       [ 0.03849493],\n",
       "       [ 2.01937895],\n",
       "       [ 4.50923729],\n",
       "       [-1.2211929 ],\n",
       "       [-0.08844124],\n",
       "       [-3.31845936],\n",
       "       [ 4.16300294],\n",
       "       [ 2.042956  ],\n",
       "       [-0.79882886],\n",
       "       [-3.97473672],\n",
       "       [-0.01211269],\n",
       "       [ 1.07015704],\n",
       "       [-3.52028871],\n",
       "       [ 3.21790543],\n",
       "       [-1.44274691],\n",
       "       [ 2.9146654 ],\n",
       "       [-0.94759935],\n",
       "       [-2.06406615],\n",
       "       [ 0.10739185],\n",
       "       [ 2.25839492],\n",
       "       [-0.33501108],\n",
       "       [-3.75050741],\n",
       "       [-5.43819205],\n",
       "       [ 3.76958372]])"
      ]
     },
     "execution_count": 25,
     "metadata": {},
     "output_type": "execute_result"
    }
   ],
   "source": [
    "logreg.coef_[0][0]*X_test[:,np.newaxis,0]+logreg.coef_[0][1]*X_test[:,np.newaxis,1]+\\\n",
    "logreg.coef_[0][2]*X_test[:,np.newaxis,2]+logreg.coef_[0][3]*X_test[:,np.newaxis,3]+logreg.intercept_"
   ]
  },
  {
   "cell_type": "code",
   "execution_count": 26,
   "metadata": {},
   "outputs": [],
   "source": [
    "odds = np.exp(logreg.coef_[0][0]*X_test[:,np.newaxis,0]+logreg.coef_[0][1]*X_test[:,np.newaxis,1]+\\\n",
    "logreg.coef_[0][2]*X_test[:,np.newaxis,2]+logreg.coef_[0][3]*X_test[:,np.newaxis,3]+logreg.intercept_)"
   ]
  },
  {
   "cell_type": "code",
   "execution_count": 27,
   "metadata": {},
   "outputs": [],
   "source": [
    "final_values = odds/(1+odds)"
   ]
  },
  {
   "cell_type": "code",
   "execution_count": 28,
   "metadata": {},
   "outputs": [
    {
     "data": {
      "text/plain": [
       "array([[0.00440011],\n",
       "       [0.93289038],\n",
       "       [0.15512048],\n",
       "       [0.01149223],\n",
       "       [0.96276223],\n",
       "       [0.05252391],\n",
       "       [0.50962254],\n",
       "       [0.88281678],\n",
       "       [0.98911298],\n",
       "       [0.22772659],\n",
       "       [0.47790409],\n",
       "       [0.03494333],\n",
       "       [0.98467767],\n",
       "       [0.88523392],\n",
       "       [0.31027609],\n",
       "       [0.0184379 ],\n",
       "       [0.49697186],\n",
       "       [0.74462678],\n",
       "       [0.02874044],\n",
       "       [0.96150256],\n",
       "       [0.19112033],\n",
       "       [0.94856666],\n",
       "       [0.27936787],\n",
       "       [0.11263877],\n",
       "       [0.52682219],\n",
       "       [0.90537221],\n",
       "       [0.41702185],\n",
       "       [0.02296598],\n",
       "       [0.00432852],\n",
       "       [0.97745819]])"
      ]
     },
     "execution_count": 28,
     "metadata": {},
     "output_type": "execute_result"
    }
   ],
   "source": [
    "final_values"
   ]
  },
  {
   "cell_type": "code",
   "execution_count": 30,
   "metadata": {},
   "outputs": [],
   "source": [
    "temp = logreg.predict_proba(X_test)"
   ]
  },
  {
   "cell_type": "code",
   "execution_count": 31,
   "metadata": {},
   "outputs": [
    {
     "data": {
      "text/plain": [
       "array([[0.99559989, 0.00440011],\n",
       "       [0.06710962, 0.93289038],\n",
       "       [0.84487952, 0.15512048],\n",
       "       [0.98850777, 0.01149223],\n",
       "       [0.03723777, 0.96276223],\n",
       "       [0.94747609, 0.05252391],\n",
       "       [0.49037746, 0.50962254],\n",
       "       [0.11718322, 0.88281678],\n",
       "       [0.01088702, 0.98911298],\n",
       "       [0.77227341, 0.22772659],\n",
       "       [0.52209591, 0.47790409],\n",
       "       [0.96505667, 0.03494333],\n",
       "       [0.01532233, 0.98467767],\n",
       "       [0.11476608, 0.88523392],\n",
       "       [0.68972391, 0.31027609],\n",
       "       [0.9815621 , 0.0184379 ],\n",
       "       [0.50302814, 0.49697186],\n",
       "       [0.25537322, 0.74462678],\n",
       "       [0.97125956, 0.02874044],\n",
       "       [0.03849744, 0.96150256],\n",
       "       [0.80887967, 0.19112033],\n",
       "       [0.05143334, 0.94856666],\n",
       "       [0.72063213, 0.27936787],\n",
       "       [0.88736123, 0.11263877],\n",
       "       [0.47317781, 0.52682219],\n",
       "       [0.09462779, 0.90537221],\n",
       "       [0.58297815, 0.41702185],\n",
       "       [0.97703402, 0.02296598],\n",
       "       [0.99567148, 0.00432852],\n",
       "       [0.02254181, 0.97745819]])"
      ]
     },
     "execution_count": 31,
     "metadata": {},
     "output_type": "execute_result"
    }
   ],
   "source": [
    "temp"
   ]
  },
  {
   "cell_type": "code",
   "execution_count": 32,
   "metadata": {},
   "outputs": [
    {
     "data": {
      "text/plain": [
       "array([[ True],\n",
       "       [ True],\n",
       "       [ True],\n",
       "       [ True],\n",
       "       [ True],\n",
       "       [ True],\n",
       "       [ True],\n",
       "       [ True],\n",
       "       [ True],\n",
       "       [ True],\n",
       "       [ True],\n",
       "       [ True],\n",
       "       [ True],\n",
       "       [ True],\n",
       "       [ True],\n",
       "       [ True],\n",
       "       [ True],\n",
       "       [ True],\n",
       "       [ True],\n",
       "       [ True],\n",
       "       [ True],\n",
       "       [ True],\n",
       "       [ True],\n",
       "       [ True],\n",
       "       [ True],\n",
       "       [ True],\n",
       "       [ True],\n",
       "       [ True],\n",
       "       [ True],\n",
       "       [ True]])"
      ]
     },
     "execution_count": 32,
     "metadata": {},
     "output_type": "execute_result"
    }
   ],
   "source": [
    "np.round(temp[:,np.newaxis,1],3)==np.round(final_values,3)"
   ]
  },
  {
   "cell_type": "markdown",
   "metadata": {},
   "source": [
    "---"
   ]
  },
  {
   "cell_type": "markdown",
   "metadata": {},
   "source": [
    "### \"StatQuest: Principal Component Analysis, Josh Starmer\" [바로 보기](https://www.youtube.com/watch?v=FgakZw6K1QQ)"
   ]
  },
  {
   "cell_type": "markdown",
   "metadata": {},
   "source": [
    "## 주성분 분석(Principal Component Analysis)\n",
    "1. 주성분 분석은 차원 축소를 위해 사용됨\n",
    "--> 고차원의 데이터를 저차원의 데이터로 feature extraction 가능\n",
    "\n",
    "- 목적\n",
    "    - 차원(dimension)을 감소 시켜 시각화에 도움\n",
    "    - 변수의 수를 줄임\n",
    "- 기대효과\n",
    "    - 통계 : 적은 수의 특성으로 특정 현상을 설명\n",
    "    - 머신러닝 : 모델 성능 강화\n",
    "    \n",
    "2. 개념\n",
    "    - 여러개의 양적 변수들 사이의 공분산(상관계수)를 이용하여,\n",
    "    - 변수들의 선형결합으로 표시되는 주성분을 찾음(축의 개념)\n",
    "    - 2~3개의 주성분으로 전체 분산(variance)의 대부분을 설명하고자 하는 다변량 분석법\n",
    "    - 원데이터의 소실없이 데이터를 잘 설명할 수 있는 변수들의 선형 조합을 찾는 것이 목표\n"
   ]
  },
  {
   "cell_type": "code",
   "execution_count": 33,
   "metadata": {},
   "outputs": [],
   "source": [
    "import pandas as pd\n",
    "import numpy as np\n",
    "from sklearn import datasets\n",
    "import matplotlib.pyplot as plt"
   ]
  },
  {
   "cell_type": "markdown",
   "metadata": {},
   "source": [
    "[eigenvector / eigenvalue]\n",
    "- 특징\n",
    "    - n by n 정방행렬은 n개의 eigenvector를 가짐(n개의 eigenvalue)\n",
    "- 제약 : pca에서 eigenvector의 loading 계수 제곱합은 1"
   ]
  },
  {
   "cell_type": "markdown",
   "metadata": {},
   "source": [
    "[linear Transform]"
   ]
  },
  {
   "cell_type": "code",
   "execution_count": 35,
   "metadata": {},
   "outputs": [],
   "source": [
    "matrix_a = np.array([[2,3],[2,1]])"
   ]
  },
  {
   "cell_type": "code",
   "execution_count": 36,
   "metadata": {},
   "outputs": [],
   "source": [
    "vec = np.array([[1],[3]])"
   ]
  },
  {
   "cell_type": "code",
   "execution_count": 37,
   "metadata": {},
   "outputs": [
    {
     "data": {
      "text/plain": [
       "array([[11],\n",
       "       [ 5]])"
      ]
     },
     "execution_count": 37,
     "metadata": {},
     "output_type": "execute_result"
    }
   ],
   "source": [
    "np.dot(matrix_a, vec)"
   ]
  },
  {
   "cell_type": "markdown",
   "metadata": {},
   "source": [
    "[eigenvector / eigenvalue]"
   ]
  },
  {
   "cell_type": "code",
   "execution_count": 39,
   "metadata": {},
   "outputs": [],
   "source": [
    "eigen_a = np.array([[3],[2]])"
   ]
  },
  {
   "cell_type": "code",
   "execution_count": 40,
   "metadata": {},
   "outputs": [
    {
     "data": {
      "text/plain": [
       "array([[12],\n",
       "       [ 8]])"
      ]
     },
     "execution_count": 40,
     "metadata": {},
     "output_type": "execute_result"
    }
   ],
   "source": [
    "np.dot(matrix_a,eigen_a)"
   ]
  },
  {
   "cell_type": "markdown",
   "metadata": {},
   "source": [
    "[how to calculate eigenvector?]"
   ]
  },
  {
   "cell_type": "code",
   "execution_count": 41,
   "metadata": {},
   "outputs": [],
   "source": [
    "a = np.array([[3,0,1],[-4,1,2],[-6,0,-2]])"
   ]
  },
  {
   "cell_type": "code",
   "execution_count": 42,
   "metadata": {},
   "outputs": [
    {
     "data": {
      "text/plain": [
       "array([[ 3,  0,  1],\n",
       "       [-4,  1,  2],\n",
       "       [-6,  0, -2]])"
      ]
     },
     "execution_count": 42,
     "metadata": {},
     "output_type": "execute_result"
    }
   ],
   "source": [
    "a"
   ]
  },
  {
   "cell_type": "code",
   "execution_count": 43,
   "metadata": {},
   "outputs": [
    {
     "data": {
      "text/plain": [
       "(array([ 1.00000000e+00,  1.00000000e+00, -2.22044605e-16]),\n",
       " array([[ 0.00000000e+00,  5.55111512e-17, -9.53462589e-02],\n",
       "        [ 1.00000000e+00, -1.00000000e+00, -9.53462589e-01],\n",
       "        [ 0.00000000e+00, -1.11022302e-16,  2.86038777e-01]]))"
      ]
     },
     "execution_count": 43,
     "metadata": {},
     "output_type": "execute_result"
    }
   ],
   "source": [
    "np.linalg.eig(a)"
   ]
  },
  {
   "cell_type": "code",
   "execution_count": 44,
   "metadata": {},
   "outputs": [],
   "source": [
    "eig_val, eig_vec = np.linalg.eig(a)"
   ]
  },
  {
   "cell_type": "code",
   "execution_count": 45,
   "metadata": {},
   "outputs": [
    {
     "data": {
      "text/plain": [
       "array([[0.],\n",
       "       [1.],\n",
       "       [0.]])"
      ]
     },
     "execution_count": 45,
     "metadata": {},
     "output_type": "execute_result"
    }
   ],
   "source": [
    "eig_vec[:,np.newaxis,0]"
   ]
  },
  {
   "cell_type": "code",
   "execution_count": 46,
   "metadata": {},
   "outputs": [
    {
     "data": {
      "text/plain": [
       "array([[ 5.55111512e-17],\n",
       "       [-1.00000000e+00],\n",
       "       [-1.11022302e-16]])"
      ]
     },
     "execution_count": 46,
     "metadata": {},
     "output_type": "execute_result"
    }
   ],
   "source": [
    "eig_vec[:,np.newaxis,1]"
   ]
  },
  {
   "cell_type": "code",
   "execution_count": 47,
   "metadata": {},
   "outputs": [
    {
     "data": {
      "text/plain": [
       "array([[-0.09534626],\n",
       "       [-0.95346259],\n",
       "       [ 0.28603878]])"
      ]
     },
     "execution_count": 47,
     "metadata": {},
     "output_type": "execute_result"
    }
   ],
   "source": [
    "eig_vec[:,np.newaxis,2]"
   ]
  },
  {
   "cell_type": "code",
   "execution_count": 77,
   "metadata": {},
   "outputs": [
    {
     "data": {
      "text/plain": [
       "0.9999999999999998"
      ]
     },
     "execution_count": 77,
     "metadata": {},
     "output_type": "execute_result"
    }
   ],
   "source": [
    "# 세번째 아이겐벡터의 제곱합\n",
    "np.sum(eig_vec[:,np.newaxis,2]**2)"
   ]
  },
  {
   "cell_type": "markdown",
   "metadata": {},
   "source": [
    "[covariance의 이해(feat. correlation)]"
   ]
  },
  {
   "cell_type": "markdown",
   "metadata": {},
   "source": [
    "- 상관계수행렬은 데이터의 분포를 표현(분포에 관한 정보라고 간주)\n",
    "- n by n 상관계수행렬은 n개의 eigenvector를 가짐\n",
    "- 이 eigenvector들과 상관계수 행렬의 선형 변환으로 데이터가 변하지 않음(데이터 소실 없음)\n",
    "- eigenvector 가 n개의 축이라고 생각할때 데이터를 이 n개의 축에 대하여 변환을 실시하면?\n",
    "- n번의 변환에서 각각 상관계수 행렬이 가졌던 오리지널 데이터의 분포에 관한 정보를 전부 나눠가지게 될것\n",
    "- 만약 특정 축 몇개가 분포에 대한 정보(분산의) 대부분을 가져간다면?\n",
    "- 이 몇개의 축으로(주성분으로, 특성의 수로) 데이터의 대부분을 설명할 수 있을 것  \n",
    "\n",
    "--> 차원축소(dimension reduction, feature extraction)가 가능해짐"
   ]
  },
  {
   "cell_type": "markdown",
   "metadata": {},
   "source": [
    "**PCA는 데이터를 표준화(stanardizing)하여 진행한다**"
   ]
  },
  {
   "cell_type": "code",
   "execution_count": 49,
   "metadata": {},
   "outputs": [],
   "source": [
    "lamen = dict({'name':['쇠고기라면','해물라면','얼큰라면',\n",
    "                      '떡라면','짬뽕라면','만두라면','치즈라면',\n",
    "                      '된장라면','볶음라면','김치라면'],\n",
    "              'noodle':[2,1,5,2,3,4,4,1,3,5],\n",
    "              'bowl':[4,5,3,2,5,3,4,2,3,5],\n",
    "              'soup':[5,1,4,3,5,2,3,1,2,3]})"
   ]
  },
  {
   "cell_type": "code",
   "execution_count": 50,
   "metadata": {},
   "outputs": [],
   "source": [
    "lamen1 = pd.DataFrame(lamen)"
   ]
  },
  {
   "cell_type": "code",
   "execution_count": 51,
   "metadata": {},
   "outputs": [
    {
     "data": {
      "text/html": [
       "<div>\n",
       "<style scoped>\n",
       "    .dataframe tbody tr th:only-of-type {\n",
       "        vertical-align: middle;\n",
       "    }\n",
       "\n",
       "    .dataframe tbody tr th {\n",
       "        vertical-align: top;\n",
       "    }\n",
       "\n",
       "    .dataframe thead th {\n",
       "        text-align: right;\n",
       "    }\n",
       "</style>\n",
       "<table border=\"1\" class=\"dataframe\">\n",
       "  <thead>\n",
       "    <tr style=\"text-align: right;\">\n",
       "      <th></th>\n",
       "      <th>name</th>\n",
       "      <th>noodle</th>\n",
       "      <th>bowl</th>\n",
       "      <th>soup</th>\n",
       "    </tr>\n",
       "  </thead>\n",
       "  <tbody>\n",
       "    <tr>\n",
       "      <th>0</th>\n",
       "      <td>쇠고기라면</td>\n",
       "      <td>2</td>\n",
       "      <td>4</td>\n",
       "      <td>5</td>\n",
       "    </tr>\n",
       "    <tr>\n",
       "      <th>1</th>\n",
       "      <td>해물라면</td>\n",
       "      <td>1</td>\n",
       "      <td>5</td>\n",
       "      <td>1</td>\n",
       "    </tr>\n",
       "    <tr>\n",
       "      <th>2</th>\n",
       "      <td>얼큰라면</td>\n",
       "      <td>5</td>\n",
       "      <td>3</td>\n",
       "      <td>4</td>\n",
       "    </tr>\n",
       "    <tr>\n",
       "      <th>3</th>\n",
       "      <td>떡라면</td>\n",
       "      <td>2</td>\n",
       "      <td>2</td>\n",
       "      <td>3</td>\n",
       "    </tr>\n",
       "    <tr>\n",
       "      <th>4</th>\n",
       "      <td>짬뽕라면</td>\n",
       "      <td>3</td>\n",
       "      <td>5</td>\n",
       "      <td>5</td>\n",
       "    </tr>\n",
       "    <tr>\n",
       "      <th>5</th>\n",
       "      <td>만두라면</td>\n",
       "      <td>4</td>\n",
       "      <td>3</td>\n",
       "      <td>2</td>\n",
       "    </tr>\n",
       "    <tr>\n",
       "      <th>6</th>\n",
       "      <td>치즈라면</td>\n",
       "      <td>4</td>\n",
       "      <td>4</td>\n",
       "      <td>3</td>\n",
       "    </tr>\n",
       "    <tr>\n",
       "      <th>7</th>\n",
       "      <td>된장라면</td>\n",
       "      <td>1</td>\n",
       "      <td>2</td>\n",
       "      <td>1</td>\n",
       "    </tr>\n",
       "    <tr>\n",
       "      <th>8</th>\n",
       "      <td>볶음라면</td>\n",
       "      <td>3</td>\n",
       "      <td>3</td>\n",
       "      <td>2</td>\n",
       "    </tr>\n",
       "    <tr>\n",
       "      <th>9</th>\n",
       "      <td>김치라면</td>\n",
       "      <td>5</td>\n",
       "      <td>5</td>\n",
       "      <td>3</td>\n",
       "    </tr>\n",
       "  </tbody>\n",
       "</table>\n",
       "</div>"
      ],
      "text/plain": [
       "    name  noodle  bowl  soup\n",
       "0  쇠고기라면       2     4     5\n",
       "1   해물라면       1     5     1\n",
       "2   얼큰라면       5     3     4\n",
       "3    떡라면       2     2     3\n",
       "4   짬뽕라면       3     5     5\n",
       "5   만두라면       4     3     2\n",
       "6   치즈라면       4     4     3\n",
       "7   된장라면       1     2     1\n",
       "8   볶음라면       3     3     2\n",
       "9   김치라면       5     5     3"
      ]
     },
     "execution_count": 51,
     "metadata": {},
     "output_type": "execute_result"
    }
   ],
   "source": [
    "lamen1"
   ]
  },
  {
   "cell_type": "markdown",
   "metadata": {},
   "source": [
    "**How StandardScaler works?**"
   ]
  },
  {
   "cell_type": "code",
   "execution_count": 52,
   "metadata": {},
   "outputs": [],
   "source": [
    "noodle_sd = np.std(lamen1['noodle'])\n",
    "noodle_mean = np.mean(lamen1['noodle'])"
   ]
  },
  {
   "cell_type": "code",
   "execution_count": 53,
   "metadata": {},
   "outputs": [],
   "source": [
    "a=[]\n",
    "for i in range(len(lamen1['noodle'])):\n",
    "    a.append((lamen1['noodle'][i]-noodle_mean)/noodle_sd)"
   ]
  },
  {
   "cell_type": "code",
   "execution_count": 54,
   "metadata": {},
   "outputs": [
    {
     "data": {
      "text/plain": [
       "[-0.7071067811865475,\n",
       " -1.414213562373095,\n",
       " 1.414213562373095,\n",
       " -0.7071067811865475,\n",
       " 0.0,\n",
       " 0.7071067811865475,\n",
       " 0.7071067811865475,\n",
       " -1.414213562373095,\n",
       " 0.0,\n",
       " 1.414213562373095]"
      ]
     },
     "execution_count": 54,
     "metadata": {},
     "output_type": "execute_result"
    }
   ],
   "source": [
    "a"
   ]
  },
  {
   "cell_type": "markdown",
   "metadata": {},
   "source": [
    "## StadardScaler 적용"
   ]
  },
  {
   "cell_type": "code",
   "execution_count": 55,
   "metadata": {},
   "outputs": [],
   "source": [
    "from sklearn.preprocessing import StandardScaler\n",
    "from sklearn.decomposition import PCA"
   ]
  },
  {
   "cell_type": "markdown",
   "metadata": {},
   "source": [
    "1. 데이터 분리 "
   ]
  },
  {
   "cell_type": "code",
   "execution_count": 56,
   "metadata": {},
   "outputs": [],
   "source": [
    "lamenEval = lamen1[['noodle','bowl','soup']]\n",
    "lamenName = lamen1['name']"
   ]
  },
  {
   "cell_type": "markdown",
   "metadata": {},
   "source": [
    "2. 스케일러로 값 변환"
   ]
  },
  {
   "cell_type": "code",
   "execution_count": 57,
   "metadata": {},
   "outputs": [],
   "source": [
    "scaler = StandardScaler()\n",
    "scaler.fit(lamenEval.values)\n",
    "lamen_scaled = scaler.transform(lamenEval.values)"
   ]
  },
  {
   "cell_type": "code",
   "execution_count": 58,
   "metadata": {},
   "outputs": [
    {
     "data": {
      "text/plain": [
       "array([[-0.70710678,  0.3592106 ,  1.52752523],\n",
       "       [-1.41421356,  1.25723711, -1.38204664],\n",
       "       [ 1.41421356, -0.53881591,  0.80013226],\n",
       "       [-0.70710678, -1.43684242,  0.0727393 ],\n",
       "       [ 0.        ,  1.25723711,  1.52752523],\n",
       "       [ 0.70710678, -0.53881591, -0.65465367],\n",
       "       [ 0.70710678,  0.3592106 ,  0.0727393 ],\n",
       "       [-1.41421356, -1.43684242, -1.38204664],\n",
       "       [ 0.        , -0.53881591, -0.65465367],\n",
       "       [ 1.41421356,  1.25723711,  0.0727393 ]])"
      ]
     },
     "execution_count": 58,
     "metadata": {},
     "output_type": "execute_result"
    }
   ],
   "source": [
    "lamen_scaled"
   ]
  },
  {
   "cell_type": "markdown",
   "metadata": {},
   "source": [
    "3. PCA 모델링\n",
    "\n",
    "- PCA.fit() : 주성분을 찾음\n",
    "- PCA.transform() : 새로운 주성분으로 데이터 변환"
   ]
  },
  {
   "cell_type": "code",
   "execution_count": 59,
   "metadata": {},
   "outputs": [
    {
     "name": "stdout",
     "output_type": "stream",
     "text": [
      "original data: (10, 3)\n",
      "deducted data: (10, 3)\n"
     ]
    }
   ],
   "source": [
    "pca_lamen = PCA()\n",
    "pca_lamen.fit(lamen_scaled)\n",
    "\n",
    "X_pca_lamen = pca_lamen.transform(lamen_scaled)\n",
    "\n",
    "print('original data: {}'.format(str(lamen_scaled.shape)))\n",
    "\n",
    "print('deducted data: {}'.format(str(X_pca_lamen.shape)))"
   ]
  },
  {
   "cell_type": "markdown",
   "metadata": {},
   "source": [
    "4. 변환된 데이터 확인"
   ]
  },
  {
   "cell_type": "code",
   "execution_count": 60,
   "metadata": {},
   "outputs": [
    {
     "data": {
      "text/plain": [
       "array([[-0.75045146,  0.54986707,  1.44804503],\n",
       "       [ 1.02673873,  1.99341604, -0.68029269],\n",
       "       [-1.03344902, -1.36473856,  0.00244833],\n",
       "       [ 1.10826926, -0.71479113,  0.91138358],\n",
       "       [-1.62344488,  0.83152952,  0.76613567],\n",
       "       [ 0.29164279, -0.78379531, -0.72076585],\n",
       "       [-0.63771758, -0.15146621, -0.45243513],\n",
       "       [ 2.43336106, -0.13384787,  0.1881694 ],\n",
       "       [ 0.69576209, -0.3563698 , -0.32834386],\n",
       "       [-1.51071099,  0.13019625, -1.13434448]])"
      ]
     },
     "execution_count": 60,
     "metadata": {},
     "output_type": "execute_result"
    }
   ],
   "source": [
    "X_pca_lamen"
   ]
  },
  {
   "cell_type": "code",
   "execution_count": 61,
   "metadata": {},
   "outputs": [
    {
     "data": {
      "text/plain": [
       "array([[-0.571511  , -0.52211611, -0.63306393],\n",
       "       [-0.60447096,  0.78960694, -0.105526  ],\n",
       "       [-0.5549685 , -0.32235949,  0.76687308]])"
      ]
     },
     "execution_count": 61,
     "metadata": {},
     "output_type": "execute_result"
    }
   ],
   "source": [
    "pca_lamen.components_"
   ]
  },
  {
   "cell_type": "markdown",
   "metadata": {},
   "source": [
    "[eigenvalue의 이해(feat.cov of transformed data)]"
   ]
  },
  {
   "cell_type": "code",
   "execution_count": 62,
   "metadata": {},
   "outputs": [
    {
     "data": {
      "text/html": [
       "<div>\n",
       "<style scoped>\n",
       "    .dataframe tbody tr th:only-of-type {\n",
       "        vertical-align: middle;\n",
       "    }\n",
       "\n",
       "    .dataframe tbody tr th {\n",
       "        vertical-align: top;\n",
       "    }\n",
       "\n",
       "    .dataframe thead th {\n",
       "        text-align: right;\n",
       "    }\n",
       "</style>\n",
       "<table border=\"1\" class=\"dataframe\">\n",
       "  <thead>\n",
       "    <tr style=\"text-align: right;\">\n",
       "      <th></th>\n",
       "      <th>noodle</th>\n",
       "      <th>bowl</th>\n",
       "      <th>soup</th>\n",
       "    </tr>\n",
       "  </thead>\n",
       "  <tbody>\n",
       "    <tr>\n",
       "      <th>noodle</th>\n",
       "      <td>1.000000</td>\n",
       "      <td>0.19050</td>\n",
       "      <td>0.360041</td>\n",
       "    </tr>\n",
       "    <tr>\n",
       "      <th>bowl</th>\n",
       "      <td>0.190500</td>\n",
       "      <td>1.00000</td>\n",
       "      <td>0.300480</td>\n",
       "    </tr>\n",
       "    <tr>\n",
       "      <th>soup</th>\n",
       "      <td>0.360041</td>\n",
       "      <td>0.30048</td>\n",
       "      <td>1.000000</td>\n",
       "    </tr>\n",
       "  </tbody>\n",
       "</table>\n",
       "</div>"
      ],
      "text/plain": [
       "          noodle     bowl      soup\n",
       "noodle  1.000000  0.19050  0.360041\n",
       "bowl    0.190500  1.00000  0.300480\n",
       "soup    0.360041  0.30048  1.000000"
      ]
     },
     "execution_count": 62,
     "metadata": {},
     "output_type": "execute_result"
    }
   ],
   "source": [
    "lamen1.corr()"
   ]
  },
  {
   "cell_type": "code",
   "execution_count": 78,
   "metadata": {},
   "outputs": [],
   "source": [
    "eig_val, eig_vec = np.linalg.eig(lamen1.corr())"
   ]
  },
  {
   "cell_type": "code",
   "execution_count": 65,
   "metadata": {},
   "outputs": [
    {
     "data": {
      "text/plain": [
       "array([[-0.75045146,  0.54986707,  1.44804503],\n",
       "       [ 1.02673873,  1.99341604, -0.68029269],\n",
       "       [-1.03344902, -1.36473856,  0.00244833],\n",
       "       [ 1.10826926, -0.71479113,  0.91138358],\n",
       "       [-1.62344488,  0.83152952,  0.76613567],\n",
       "       [ 0.29164279, -0.78379531, -0.72076585],\n",
       "       [-0.63771758, -0.15146621, -0.45243513],\n",
       "       [ 2.43336106, -0.13384787,  0.1881694 ],\n",
       "       [ 0.69576209, -0.3563698 , -0.32834386],\n",
       "       [-1.51071099,  0.13019625, -1.13434448]])"
      ]
     },
     "execution_count": 65,
     "metadata": {},
     "output_type": "execute_result"
    }
   ],
   "source": [
    "X_pca_lamen"
   ]
  },
  {
   "cell_type": "code",
   "execution_count": 68,
   "metadata": {},
   "outputs": [
    {
     "data": {
      "text/plain": [
       "array([[ 1.57285386e+00, -3.63655046e-17,  7.93454755e-18],\n",
       "       [-3.63655046e-17,  8.14008318e-01, -4.22580952e-17],\n",
       "       [ 7.93454755e-18, -4.22580952e-17,  6.13137822e-01]])"
      ]
     },
     "execution_count": 68,
     "metadata": {},
     "output_type": "execute_result"
    }
   ],
   "source": [
    "np.cov(X_pca_lamen.T,ddof = 0)"
   ]
  },
  {
   "cell_type": "code",
   "execution_count": 69,
   "metadata": {},
   "outputs": [],
   "source": [
    "import pandas as pd"
   ]
  },
  {
   "cell_type": "code",
   "execution_count": 70,
   "metadata": {},
   "outputs": [
    {
     "data": {
      "text/html": [
       "<div>\n",
       "<style scoped>\n",
       "    .dataframe tbody tr th:only-of-type {\n",
       "        vertical-align: middle;\n",
       "    }\n",
       "\n",
       "    .dataframe tbody tr th {\n",
       "        vertical-align: top;\n",
       "    }\n",
       "\n",
       "    .dataframe thead th {\n",
       "        text-align: right;\n",
       "    }\n",
       "</style>\n",
       "<table border=\"1\" class=\"dataframe\">\n",
       "  <thead>\n",
       "    <tr style=\"text-align: right;\">\n",
       "      <th></th>\n",
       "      <th>0</th>\n",
       "      <th>1</th>\n",
       "      <th>2</th>\n",
       "    </tr>\n",
       "  </thead>\n",
       "  <tbody>\n",
       "    <tr>\n",
       "      <th>0</th>\n",
       "      <td>1.572854e+00</td>\n",
       "      <td>-3.636550e-17</td>\n",
       "      <td>-1.426991e-17</td>\n",
       "    </tr>\n",
       "    <tr>\n",
       "      <th>1</th>\n",
       "      <td>-3.636550e-17</td>\n",
       "      <td>8.140083e-01</td>\n",
       "      <td>-2.005363e-17</td>\n",
       "    </tr>\n",
       "    <tr>\n",
       "      <th>2</th>\n",
       "      <td>-1.426991e-17</td>\n",
       "      <td>-2.005363e-17</td>\n",
       "      <td>6.131378e-01</td>\n",
       "    </tr>\n",
       "  </tbody>\n",
       "</table>\n",
       "</div>"
      ],
      "text/plain": [
       "              0             1             2\n",
       "0  1.572854e+00 -3.636550e-17 -1.426991e-17\n",
       "1 -3.636550e-17  8.140083e-01 -2.005363e-17\n",
       "2 -1.426991e-17 -2.005363e-17  6.131378e-01"
      ]
     },
     "execution_count": 70,
     "metadata": {},
     "output_type": "execute_result"
    }
   ],
   "source": [
    "pd.DataFrame(X_pca_lamen).cov(ddof=0)"
   ]
  },
  {
   "cell_type": "code",
   "execution_count": 82,
   "metadata": {},
   "outputs": [
    {
     "data": {
      "text/plain": [
       "array([[ 1.57285386e+00, -3.63655046e-17,  7.93454755e-18],\n",
       "       [-3.63655046e-17,  8.14008318e-01, -4.22580952e-17],\n",
       "       [ 7.93454755e-18, -4.22580952e-17,  6.13137822e-01]])"
      ]
     },
     "execution_count": 82,
     "metadata": {},
     "output_type": "execute_result"
    }
   ],
   "source": [
    "np.cov(X_pca_lamen.T, ddof = 0)"
   ]
  },
  {
   "cell_type": "code",
   "execution_count": 71,
   "metadata": {},
   "outputs": [
    {
     "data": {
      "text/plain": [
       "array([[-0.571511  , -0.60447096, -0.5549685 ],\n",
       "       [-0.52211611,  0.78960694, -0.32235949],\n",
       "       [-0.63306393, -0.105526  ,  0.76687308]])"
      ]
     },
     "execution_count": 71,
     "metadata": {},
     "output_type": "execute_result"
    }
   ],
   "source": [
    "eig_vec"
   ]
  },
  {
   "cell_type": "code",
   "execution_count": 83,
   "metadata": {},
   "outputs": [
    {
     "data": {
      "text/plain": [
       "array([[ 1.        , -0.54543647,  0.65000347, -0.20235648,  0.90400156,\n",
       "        -0.891286  ,  0.47266235, -0.8608972 , -0.90400156,  0.32018838],\n",
       "       [-0.54543647,  1.        , -0.99147361, -0.71043981, -0.13474095,\n",
       "         0.10608686,  0.48080895,  0.04313057,  0.13474095,  0.6193843 ],\n",
       "       [ 0.65000347, -0.99147361,  1.        ,  0.61267731,  0.2627114 ,\n",
       "        -0.23475458, -0.36245238, -0.17294916, -0.2627114 , -0.51180026],\n",
       "       [-0.20235648, -0.71043981,  0.61267731,  1.        , -0.60161497,\n",
       "         0.62441824, -0.95865867,  0.67246141,  0.60161497, -0.99254716],\n",
       "       [ 0.90400156, -0.13474095,  0.2627114 , -0.60161497,  1.        ,\n",
       "        -0.99958343,  0.80404483, -0.99577024, -1.        ,  0.6944722 ],\n",
       "       [-0.891286  ,  0.10608686, -0.23475458,  0.62441824, -0.99958343,\n",
       "         1.        , -0.82086983,  0.99800715,  0.99958343, -0.71494906],\n",
       "       [ 0.47266235,  0.48080895, -0.36245238, -0.95865867,  0.80404483,\n",
       "        -0.82086983,  1.        , -0.85527188, -0.80404483,  0.98619056],\n",
       "       [-0.8608972 ,  0.04313057, -0.17294916,  0.67246141, -0.99577024,\n",
       "         0.99800715, -0.85527188,  1.        ,  0.99577024, -0.75764299],\n",
       "       [-0.90400156,  0.13474095, -0.2627114 ,  0.60161497, -1.        ,\n",
       "         0.99958343, -0.80404483,  0.99577024,  1.        , -0.6944722 ],\n",
       "       [ 0.32018838,  0.6193843 , -0.51180026, -0.99254716,  0.6944722 ,\n",
       "        -0.71494906,  0.98619056, -0.75764299, -0.6944722 ,  1.        ]])"
      ]
     },
     "execution_count": 83,
     "metadata": {},
     "output_type": "execute_result"
    }
   ],
   "source": [
    "np.corrcoef(X_pca_lamen)"
   ]
  },
  {
   "cell_type": "code",
   "execution_count": 72,
   "metadata": {},
   "outputs": [
    {
     "data": {
      "text/plain": [
       "array([1.57285386, 0.81400832, 0.61313782])"
      ]
     },
     "execution_count": 72,
     "metadata": {},
     "output_type": "execute_result"
    }
   ],
   "source": [
    "eig_val"
   ]
  },
  {
   "cell_type": "code",
   "execution_count": 84,
   "metadata": {},
   "outputs": [
    {
     "data": {
      "text/plain": [
       "array([[ 6.35084295e-04, -1.58291537e-02,  8.15945520e-03],\n",
       "       [-1.58291537e-02,  4.99498238e-01,  2.58643061e-04],\n",
       "       [ 8.15945520e-03,  2.58643061e-04,  4.99866677e-01]])"
      ]
     },
     "execution_count": 84,
     "metadata": {},
     "output_type": "execute_result"
    }
   ],
   "source": [
    "np.cov(eig_vec)"
   ]
  },
  {
   "cell_type": "markdown",
   "metadata": {},
   "source": [
    "### [Note]\n",
    "\n",
    "    PCA 모델에 의해 산출된 값을 보면 --> pca_lamen.components_\n",
    "    첫 행부터 각 PC1, PC2, PC3를 의미하며,\n",
    "    열은 각각 noodle, bowl, soup을 의미함\n",
    "    \n",
    "### [연습 : 새로운 축(주성분)으로 데이터 변환과정 확인]\n",
    "\n",
    "    산출한 특성별 주성분 요소 값과 특성들의 평가 스코어를 이용하여,\n",
    "    역산을 해보고 PCA 모델링을 통해 변환된 최종 데이터와 일치하는지\n",
    "    확인해보세요"
   ]
  },
  {
   "cell_type": "code",
   "execution_count": 85,
   "metadata": {},
   "outputs": [
    {
     "data": {
      "text/plain": [
       "array([[-0.70710678,  0.3592106 ,  1.52752523],\n",
       "       [-1.41421356,  1.25723711, -1.38204664],\n",
       "       [ 1.41421356, -0.53881591,  0.80013226],\n",
       "       [-0.70710678, -1.43684242,  0.0727393 ],\n",
       "       [ 0.        ,  1.25723711,  1.52752523],\n",
       "       [ 0.70710678, -0.53881591, -0.65465367],\n",
       "       [ 0.70710678,  0.3592106 ,  0.0727393 ],\n",
       "       [-1.41421356, -1.43684242, -1.38204664],\n",
       "       [ 0.        , -0.53881591, -0.65465367],\n",
       "       [ 1.41421356,  1.25723711,  0.0727393 ]])"
      ]
     },
     "execution_count": 85,
     "metadata": {},
     "output_type": "execute_result"
    }
   ],
   "source": [
    "# 표준화된 스코어\n",
    "\n",
    "lamen_scaled"
   ]
  },
  {
   "cell_type": "code",
   "execution_count": 86,
   "metadata": {},
   "outputs": [
    {
     "data": {
      "text/plain": [
       "array([-0.70710678, -1.41421356,  1.41421356, -0.70710678,  0.        ,\n",
       "        0.70710678,  0.70710678, -1.41421356,  0.        ,  1.41421356])"
      ]
     },
     "execution_count": 86,
     "metadata": {},
     "output_type": "execute_result"
    }
   ],
   "source": [
    "# 첫번째 특성(면)\n",
    "lamen_scaled[:,0]"
   ]
  },
  {
   "cell_type": "code",
   "execution_count": 87,
   "metadata": {},
   "outputs": [
    {
     "data": {
      "text/plain": [
       "array([-0.571511  , -0.52211611, -0.63306393])"
      ]
     },
     "execution_count": 87,
     "metadata": {},
     "output_type": "execute_result"
    }
   ],
   "source": [
    "# 주성분 1\n",
    "pca_lamen.components_[0]"
   ]
  },
  {
   "cell_type": "code",
   "execution_count": 88,
   "metadata": {},
   "outputs": [
    {
     "data": {
      "text/plain": [
       "-0.5715110030641788"
      ]
     },
     "execution_count": 88,
     "metadata": {},
     "output_type": "execute_result"
    }
   ],
   "source": [
    "pca_lamen.components_[0][0]"
   ]
  },
  {
   "cell_type": "markdown",
   "metadata": {},
   "source": [
    "### 새로운 첫번째 특성인 주성분1에 대한 라면 스코어"
   ]
  },
  {
   "cell_type": "code",
   "execution_count": 89,
   "metadata": {},
   "outputs": [],
   "source": [
    "aaa = pca_lamen.components_[0][0] * lamen_scaled[:,0]"
   ]
  },
  {
   "cell_type": "code",
   "execution_count": 90,
   "metadata": {},
   "outputs": [],
   "source": [
    "bbb = pca_lamen.components_[0][1] * lamen_scaled[:,1]"
   ]
  },
  {
   "cell_type": "code",
   "execution_count": 91,
   "metadata": {},
   "outputs": [],
   "source": [
    "ccc = pca_lamen.components_[0][2] * lamen_scaled[:,2]"
   ]
  },
  {
   "cell_type": "code",
   "execution_count": 92,
   "metadata": {},
   "outputs": [
    {
     "data": {
      "text/plain": [
       "array([-0.75045146,  1.02673873, -1.03344902,  1.10826926, -1.62344488,\n",
       "        0.29164279, -0.63771758,  2.43336106,  0.69576209, -1.51071099])"
      ]
     },
     "execution_count": 92,
     "metadata": {},
     "output_type": "execute_result"
    }
   ],
   "source": [
    "aaa + bbb + ccc"
   ]
  },
  {
   "cell_type": "code",
   "execution_count": null,
   "metadata": {},
   "outputs": [],
   "source": []
  },
  {
   "cell_type": "code",
   "execution_count": 93,
   "metadata": {},
   "outputs": [],
   "source": [
    "pc1 = pca_lamen.components_[0][0] * lamen_scaled[:,0] +\\\n",
    "pca_lamen.components_[0][1] * lamen_scaled[:,1] +\\\n",
    "pca_lamen.components_[0][2] * lamen_scaled[:,2]"
   ]
  },
  {
   "cell_type": "code",
   "execution_count": 94,
   "metadata": {},
   "outputs": [
    {
     "data": {
      "text/plain": [
       "array([-0.75045146,  1.02673873, -1.03344902,  1.10826926, -1.62344488,\n",
       "        0.29164279, -0.63771758,  2.43336106,  0.69576209, -1.51071099])"
      ]
     },
     "execution_count": 94,
     "metadata": {},
     "output_type": "execute_result"
    }
   ],
   "source": [
    "pc1"
   ]
  },
  {
   "cell_type": "code",
   "execution_count": 95,
   "metadata": {},
   "outputs": [],
   "source": [
    "pc1=0\n",
    "pc2=0\n",
    "pc3=0\n",
    "for j in range(len(pca_lamen.components_)):\n",
    "    pc1 += pca_lamen.components_[0][j] * lamen_scaled[:,j]\n",
    "    pc2 += pca_lamen.components_[1][j] * lamen_scaled[:,j]\n",
    "    pc3 += pca_lamen.components_[2][j] * lamen_scaled[:,j]"
   ]
  },
  {
   "cell_type": "code",
   "execution_count": 96,
   "metadata": {},
   "outputs": [
    {
     "data": {
      "text/plain": [
       "array([[ True,  True,  True],\n",
       "       [ True,  True,  True],\n",
       "       [ True,  True,  True],\n",
       "       [ True,  True,  True],\n",
       "       [ True,  True,  True],\n",
       "       [ True,  True,  True],\n",
       "       [ True,  True,  True],\n",
       "       [ True,  True,  True],\n",
       "       [ True,  True,  True],\n",
       "       [ True,  True,  True]])"
      ]
     },
     "execution_count": 96,
     "metadata": {},
     "output_type": "execute_result"
    }
   ],
   "source": [
    "pc1 = pc1.reshape(10,1)\n",
    "pc2 = pc2.reshape(10,1)\n",
    "pc3 = pc3.reshape(10,1)\n",
    "\n",
    "np.round(np.hstack((pc1,pc2,pc3)),3) == np.round(X_pca_lamen,3)"
   ]
  },
  {
   "cell_type": "code",
   "execution_count": null,
   "metadata": {},
   "outputs": [],
   "source": []
  },
  {
   "cell_type": "code",
   "execution_count": null,
   "metadata": {},
   "outputs": [],
   "source": []
  },
  {
   "cell_type": "markdown",
   "metadata": {},
   "source": [
    "### [scree plot]"
   ]
  },
  {
   "cell_type": "code",
   "execution_count": 73,
   "metadata": {},
   "outputs": [
    {
     "data": {
      "image/png": "[encoded data removed]",
      "text/plain": [
       "<Figure size 720x720 with 1 Axes>"
      ]
     },
     "metadata": {
      "needs_background": "light"
     },
     "output_type": "display_data"
    }
   ],
   "source": [
    "plt.figure(figsize=(10,10))\n",
    "plt.xticks(range(len(pca_lamen.explained_variance_)))\n",
    "plt.plot(pca_lamen.explained_variance_,marker = '^',c='red')\n",
    "plt.grid()"
   ]
  },
  {
   "cell_type": "code",
   "execution_count": 74,
   "metadata": {},
   "outputs": [
    {
     "data": {
      "image/png": "[encoded data removed]",
      "text/plain": [
       "<Figure size 720x720 with 1 Axes>"
      ]
     },
     "metadata": {
      "needs_background": "light"
     },
     "output_type": "display_data"
    }
   ],
   "source": [
    "plt.figure(figsize=(10,10))\n",
    "cumVar = np.cumsum(np.round(pca_lamen.explained_variance_ratio_,decimals=4)*100)\n",
    "plt.xticks(range(len(pca_lamen.explained_variance_ratio_)))\n",
    "plt.plot(cumVar,marker = 'o',c='b')\n",
    "plt.grid()\n"
   ]
  },
  {
   "cell_type": "code",
   "execution_count": 97,
   "metadata": {},
   "outputs": [
    {
     "data": {
      "text/plain": [
       "array([0.52428462, 0.27133611, 0.20437927])"
      ]
     },
     "execution_count": 97,
     "metadata": {},
     "output_type": "execute_result"
    }
   ],
   "source": [
    "pca_lamen.explained_variance_ratio_"
   ]
  },
  {
   "cell_type": "markdown",
   "metadata": {},
   "source": [
    "### [breast cancer data]\n",
    "\n",
    "- PCA가 가장 널리 사용되는 분야 중 하나는 고차원 데이터 셋의 시각화\n",
    "- 이 데이터와 같이 특성이 많은 데이터들은 시각화로 데이터의 특성을  \n",
    "  살펴보는 것이 불가능\n",
    "- iris 데이터에서 해보았듯이 산점도 행렬로 볼 수 있겠으나,\n",
    "- 이 데이터에서는 30개의 특성에 대해 산점도 행렬을 그려도 특성을  \n",
    "  보기는 어렵다\n",
    "- 2차원에 표현해 볼 수 있는 한가지 방법은 두 클래스(악성, 양성)에 대해  \n",
    "  각 특성별로 히스토그램을 그려보는 것"
   ]
  },
  {
   "cell_type": "markdown",
   "metadata": {},
   "source": [
    "- #### cancer data 특성별 히스토그램"
   ]
  },
  {
   "cell_type": "code",
   "execution_count": 99,
   "metadata": {},
   "outputs": [
    {
     "data": {
      "image/png": "[encoded data removed]",
      "text/plain": [
       "<Figure size 720x1440 with 30 Axes>"
      ]
     },
     "metadata": {
      "needs_background": "light"
     },
     "output_type": "display_data"
    }
   ],
   "source": [
    "cancer = datasets.load_breast_cancer()\n",
    "\n",
    "fig, axes = plt.subplots(15,2, figsize=(10,20))\n",
    "malignant = cancer.data[cancer.target == 0]\n",
    "benign = cancer.data[cancer.target == 1]\n",
    "\n",
    "ax = axes.ravel()\n",
    "\n",
    "for i in range(30):\n",
    "    _, bins = np.histogram(cancer.data[:,i],bins=50)\n",
    "    ax[i].hist(malignant[:,i], bins=bins, color = 'red', alpha=0.5)\n",
    "    ax[i].hist(benign[:,i], bins=bins, color = 'blue', alpha=0.5)\n",
    "    ax[i].set_title(cancer.feature_names[i])\n",
    "    ax[i].set_yticks(())\n",
    "\n",
    "ax[0].set_xlabel(\"quantity\")\n",
    "ax[0].set_ylabel(\"frequency\")\n",
    "ax[0].legend(['malignant','benign'], loc=\"best\")\n",
    "fig.tight_layout()"
   ]
  },
  {
   "cell_type": "markdown",
   "metadata": {},
   "source": [
    "- ### PCA 적용\n",
    "  - StandardScaler를 사용해 각 특성의 분산이 1이 되도록 정규화"
   ]
  },
  {
   "cell_type": "code",
   "execution_count": 100,
   "metadata": {},
   "outputs": [],
   "source": [
    "from sklearn.preprocessing import StandardScaler\n",
    "from sklearn.decomposition import PCA"
   ]
  },
  {
   "cell_type": "code",
   "execution_count": 101,
   "metadata": {},
   "outputs": [
    {
     "name": "stdout",
     "output_type": "stream",
     "text": [
      "original data: (569, 30)\n",
      "deducted data: (569, 30)\n"
     ]
    }
   ],
   "source": [
    "# load data\n",
    "cancer = datasets.load_breast_cancer()\n",
    "\n",
    "# scaling using StandardScaler\n",
    "scaler = StandardScaler()\n",
    "scaler.fit(cancer.data)\n",
    "X_scaled = scaler.transform(cancer.data)\n",
    "\n",
    "# PCA modelling\n",
    "pca_cancer = PCA()\n",
    "pca_cancer.fit(X_scaled)\n",
    "\n",
    "# data trasformation\n",
    "X_pca_cancer = pca_cancer.transform(X_scaled)\n",
    "\n",
    "# look into data shape\n",
    "print(\"original data: {}\".format(str(X_scaled.shape)))\n",
    "print(\"deducted data: {}\".format(str(X_pca_cancer.shape)))"
   ]
  },
  {
   "cell_type": "code",
   "execution_count": 102,
   "metadata": {},
   "outputs": [],
   "source": [
    "var1 = np.cumsum(np.round(pca_cancer.explained_variance_ratio_, decimals=4)*100)"
   ]
  },
  {
   "cell_type": "code",
   "execution_count": 103,
   "metadata": {},
   "outputs": [
    {
     "data": {
      "image/png": "[encoded data removed]",
      "text/plain": [
       "<Figure size 432x288 with 1 Axes>"
      ]
     },
     "metadata": {
      "needs_background": "light"
     },
     "output_type": "display_data"
    }
   ],
   "source": [
    "plt.xticks(range(len(pca_cancer.explained_variance_)))\n",
    "\n",
    "plt.plot(var1, marker='o')\n",
    "plt.grid()"
   ]
  },
  {
   "cell_type": "code",
   "execution_count": 104,
   "metadata": {},
   "outputs": [
    {
     "name": "stderr",
     "output_type": "stream",
     "text": [
      "No handles with labels found to put in legend.\n"
     ]
    },
    {
     "data": {
      "text/plain": [
       "Text(0, 0.5, 'PC2')"
      ]
     },
     "execution_count": 104,
     "metadata": {},
     "output_type": "execute_result"
    },
    {
     "data": {
      "image/png": "[encoded data removed]",
      "text/plain": [
       "<Figure size 720x576 with 1 Axes>"
      ]
     },
     "metadata": {
      "needs_background": "light"
     },
     "output_type": "display_data"
    }
   ],
   "source": [
    "# 클래스 구분하여 처음 2개의 주성분에 나타냄\n",
    "\n",
    "plt.figure(figsize = (10,8))\n",
    "plt.scatter(X_pca_cancer[:,0], X_pca_cancer[:,1], c = cancer.target)\n",
    "plt.legend(loc='best')\n",
    "plt.xlabel('PC1')\n",
    "plt.ylabel('PC2')"
   ]
  },
  {
   "cell_type": "code",
   "execution_count": 105,
   "metadata": {},
   "outputs": [
    {
     "data": {
      "image/png": "[encoded data removed]",
      "text/plain": [
       "<Figure size 576x576 with 1 Axes>"
      ]
     },
     "metadata": {
      "needs_background": "light"
     },
     "output_type": "display_data"
    }
   ],
   "source": [
    "fig, axes = plt.subplots(1,1,figsize=(8,8))\n",
    "\n",
    "targets = [0,1]\n",
    "colors = ['r','b']\n",
    "\n",
    "for target, color in zip(targets, colors):\n",
    "    indicesToKeep = cancer.target == target\n",
    "    axes.scatter(X_pca_cancer[indicesToKeep,0],X_pca_cancer[indicesToKeep,1],\n",
    "                 c = color, s = 50)\n",
    "\n",
    "axes.set_xlabel('PC1', size = 15)\n",
    "axes.set_ylabel('PC2', size = 15)\n",
    "axes.set_title(\"Principal Components\", size = 15 )\n",
    "axes.legend(['malignant','benign'], fontsize = 12, loc=2)\n",
    "axes.grid()\n"
   ]
  },
  {
   "cell_type": "markdown",
   "metadata": {},
   "source": [
    "## scree plot"
   ]
  },
  {
   "cell_type": "code",
   "execution_count": 106,
   "metadata": {},
   "outputs": [
    {
     "data": {
      "text/plain": [
       "array([1.33049908e+01, 5.70137460e+00, 2.82291016e+00, 1.98412752e+00,\n",
       "       1.65163324e+00, 1.20948224e+00, 6.76408882e-01, 4.77456255e-01,\n",
       "       4.17628782e-01, 3.51310875e-01, 2.94433153e-01, 2.61621161e-01,\n",
       "       2.41782421e-01, 1.57286149e-01, 9.43006956e-02, 8.00034045e-02,\n",
       "       5.95036135e-02, 5.27114222e-02, 4.95647002e-02, 3.12142606e-02,\n",
       "       3.00256631e-02, 2.74877113e-02, 2.43836914e-02, 1.80867940e-02,\n",
       "       1.55085271e-02, 8.19203712e-03, 6.91261258e-03, 1.59213600e-03,\n",
       "       7.50121413e-04, 1.33279057e-04])"
      ]
     },
     "execution_count": 106,
     "metadata": {},
     "output_type": "execute_result"
    }
   ],
   "source": [
    "pca_cancer.explained_variance_"
   ]
  },
  {
   "cell_type": "code",
   "execution_count": 107,
   "metadata": {},
   "outputs": [
    {
     "data": {
      "image/png": "[encoded data removed]",
      "text/plain": [
       "<Figure size 432x288 with 1 Axes>"
      ]
     },
     "metadata": {
      "needs_background": "light"
     },
     "output_type": "display_data"
    }
   ],
   "source": [
    "plt.xticks(range(len(pca_cancer.explained_variance_)))\n",
    "\n",
    "plt.plot(pca_cancer.explained_variance_,marker='^',c='red')\n",
    "plt.grid()"
   ]
  },
  {
   "cell_type": "code",
   "execution_count": 108,
   "metadata": {},
   "outputs": [],
   "source": [
    "var1 = np.cumsum(np.round(pca_cancer.explained_variance_ratio_, decimals=4)*100)"
   ]
  },
  {
   "cell_type": "code",
   "execution_count": 109,
   "metadata": {},
   "outputs": [
    {
     "data": {
      "image/png": "[encoded data removed]",
      "text/plain": [
       "<Figure size 432x288 with 1 Axes>"
      ]
     },
     "metadata": {
      "needs_background": "light"
     },
     "output_type": "display_data"
    }
   ],
   "source": [
    "plt.xticks(range(len(pca_cancer.explained_variance_)))\n",
    "\n",
    "plt.plot(var1, marker='o')\n",
    "plt.grid()"
   ]
  },
  {
   "cell_type": "markdown",
   "metadata": {},
   "source": [
    "### [7개 주성분 선택]"
   ]
  },
  {
   "cell_type": "code",
   "execution_count": 110,
   "metadata": {},
   "outputs": [],
   "source": [
    "from sklearn.linear_model import LogisticRegression\n",
    "from sklearn.model_selection import train_test_split"
   ]
  },
  {
   "cell_type": "code",
   "execution_count": 111,
   "metadata": {},
   "outputs": [
    {
     "name": "stdout",
     "output_type": "stream",
     "text": [
      "original data: (569, 30)\n",
      "deducted data: (569, 7)\n"
     ]
    }
   ],
   "source": [
    "# load data\n",
    "cancer = datasets.load_breast_cancer()\n",
    "\n",
    "# scaling using StandardScaler\n",
    "scaler = StandardScaler()\n",
    "scaler.fit(cancer.data)\n",
    "X_scaled = scaler.transform(cancer.data)\n",
    "\n",
    "# PCA modelling\n",
    "pca_cancer7 = PCA(n_components=7)\n",
    "pca_cancer7.fit(X_scaled)\n",
    "\n",
    "# data trasformation\n",
    "X_pca_cancer7 = pca_cancer7.transform(X_scaled)\n",
    "\n",
    "# look into data shape\n",
    "print(\"original data: {}\".format(str(X_scaled.shape)))\n",
    "print(\"deducted data: {}\".format(str(X_pca_cancer7.shape)))"
   ]
  },
  {
   "cell_type": "markdown",
   "metadata": {},
   "source": [
    "1. 로지스틱 리그레션"
   ]
  },
  {
   "cell_type": "markdown",
   "metadata": {},
   "source": [
    "< PCA 전 >"
   ]
  },
  {
   "cell_type": "code",
   "execution_count": 112,
   "metadata": {},
   "outputs": [
    {
     "name": "stdout",
     "output_type": "stream",
     "text": [
      "훈련 세트 점수: 0.945\n",
      "테스트 세트 점수: 0.930\n"
     ]
    },
    {
     "name": "stderr",
     "output_type": "stream",
     "text": [
      "C:\\Users\\admin\\Anaconda3\\lib\\site-packages\\sklearn\\linear_model\\_logistic.py:765: ConvergenceWarning: lbfgs failed to converge (status=1):\n",
      "STOP: TOTAL NO. of ITERATIONS REACHED LIMIT.\n",
      "\n",
      "Increase the number of iterations (max_iter) or scale the data as shown in:\n",
      "    https://scikit-learn.org/stable/modules/preprocessing.html\n",
      "Please also refer to the documentation for alternative solver options:\n",
      "    https://scikit-learn.org/stable/modules/linear_model.html#logistic-regression\n",
      "  extra_warning_msg=_LOGISTIC_SOLVER_CONVERGENCE_MSG)\n",
      "C:\\Users\\admin\\Anaconda3\\lib\\site-packages\\sklearn\\linear_model\\_logistic.py:765: ConvergenceWarning: lbfgs failed to converge (status=1):\n",
      "STOP: TOTAL NO. of ITERATIONS REACHED LIMIT.\n",
      "\n",
      "Increase the number of iterations (max_iter) or scale the data as shown in:\n",
      "    https://scikit-learn.org/stable/modules/preprocessing.html\n",
      "Please also refer to the documentation for alternative solver options:\n",
      "    https://scikit-learn.org/stable/modules/linear_model.html#logistic-regression\n",
      "  extra_warning_msg=_LOGISTIC_SOLVER_CONVERGENCE_MSG)\n",
      "C:\\Users\\admin\\Anaconda3\\lib\\site-packages\\sklearn\\linear_model\\_logistic.py:765: ConvergenceWarning: lbfgs failed to converge (status=1):\n",
      "STOP: TOTAL NO. of ITERATIONS REACHED LIMIT.\n",
      "\n",
      "Increase the number of iterations (max_iter) or scale the data as shown in:\n",
      "    https://scikit-learn.org/stable/modules/preprocessing.html\n",
      "Please also refer to the documentation for alternative solver options:\n",
      "    https://scikit-learn.org/stable/modules/linear_model.html#logistic-regression\n",
      "  extra_warning_msg=_LOGISTIC_SOLVER_CONVERGENCE_MSG)\n"
     ]
    },
    {
     "data": {
      "text/plain": [
       "LogisticRegression(C=100)"
      ]
     },
     "execution_count": 112,
     "metadata": {},
     "output_type": "execute_result"
    }
   ],
   "source": [
    "# 1. 데이터 불러오기\n",
    "\n",
    "cancer = datasets.load_breast_cancer()\n",
    "\n",
    "# 2. 데이터 분할 - 이항분류\n",
    "\n",
    "X = cancer.data\n",
    "y = cancer.target\n",
    "\n",
    "X_train, X_test, y_train, y_test = train_test_split(X, y, test_size = 0.2, random_state = 10)\n",
    "\n",
    "# 3. modelling\n",
    "\n",
    "logreg = LogisticRegression().fit(X_train, y_train)\n",
    "logreg\n",
    "\n",
    "# 4. 결과 비교\n",
    "\n",
    "print(\"훈련 세트 점수: {:.3f}\".format(logreg.score(X_train, y_train)))\n",
    "print(\"테스트 세트 점수: {:.3f}\".format(logreg.score(X_test, y_test)))\n",
    "\n",
    "# 5. parameter tuning\n",
    "\n",
    "logreg001 = LogisticRegression(C = 0.01).fit(X_train, y_train)\n",
    "logreg001\n",
    "\n",
    "logreg1000 = LogisticRegression(C = 100).fit(X_train, y_train)\n",
    "logreg1000"
   ]
  },
  {
   "cell_type": "markdown",
   "metadata": {},
   "source": [
    "< PCA 후 >"
   ]
  },
  {
   "cell_type": "code",
   "execution_count": 113,
   "metadata": {},
   "outputs": [],
   "source": [
    "X_train_pca, X_test_pca, y_train, y_test =\\\n",
    "train_test_split(X_pca_cancer7, y, test_size = 0.2, random_state = 10)"
   ]
  },
  {
   "cell_type": "code",
   "execution_count": 114,
   "metadata": {},
   "outputs": [
    {
     "name": "stdout",
     "output_type": "stream",
     "text": [
      "훈련 세트 점수: 0.976\n",
      "테스트 세트 점수: 0.965\n"
     ]
    }
   ],
   "source": [
    "# 3. modelling\n",
    "\n",
    "logreg_pca = LogisticRegression().fit(X_train_pca, y_train)\n",
    "logreg_pca\n",
    "\n",
    "# 4. 결과 비교\n",
    "\n",
    "print(\"훈련 세트 점수: {:.3f}\".format(logreg_pca.score(X_train_pca, y_train)))\n",
    "print(\"테스트 세트 점수: {:.3f}\".format(logreg_pca.score(X_test_pca, y_test)))"
   ]
  },
  {
   "cell_type": "markdown",
   "metadata": {},
   "source": [
    "<PCA전>  \n",
    "훈련 세트 점수: 0.945  \n",
    "테스트 세트 점수: 0.930\n",
    "\n",
    "\n",
    "<PCA후>  \n",
    "훈련 세트 점수: 0.976  \n",
    "테스트 세트 점수: 0.965"
   ]
  },
  {
   "cell_type": "markdown",
   "metadata": {},
   "source": [
    "### [Note]\n",
    "\n",
    "- 위와 같이 주성분 분석을 모델의 성능 향상에 사용할 수 있다.\n",
    "- 데이터를 대부분 설명하는 -일반적으로 80% 이상- 주성분을 추출해내면,  \n",
    "  결론적으로 모델의 훈련시 feature의 수가 줄어드는 효과\n",
    "\n",
    "- <u>**하지만**</u>, **7개의 주성분이 무엇을 의미하는지 정확하게 설명하기 어려운 단점이 있다.**"
   ]
  },
  {
   "cell_type": "markdown",
   "metadata": {},
   "source": [
    "---"
   ]
  },
  {
   "cell_type": "code",
   "execution_count": 79,
   "metadata": {},
   "outputs": [
    {
     "data": {
      "text/plain": [
       "\u001b[1;31mSignature:\u001b[0m \u001b[0mnp\u001b[0m\u001b[1;33m.\u001b[0m\u001b[0mlinalg\u001b[0m\u001b[1;33m.\u001b[0m\u001b[0meig\u001b[0m\u001b[1;33m(\u001b[0m\u001b[0ma\u001b[0m\u001b[1;33m)\u001b[0m\u001b[1;33m\u001b[0m\u001b[1;33m\u001b[0m\u001b[0m\n",
       "\u001b[1;31mDocstring:\u001b[0m\n",
       "Compute the eigenvalues and right eigenvectors of a square array.\n",
       "\n",
       "Parameters\n",
       "----------\n",
       "a : (..., M, M) array\n",
       "    Matrices for which the eigenvalues and right eigenvectors will\n",
       "    be computed\n",
       "\n",
       "Returns\n",
       "-------\n",
       "w : (..., M) array\n",
       "    The eigenvalues, each repeated according to its multiplicity.\n",
       "    The eigenvalues are not necessarily ordered. The resulting\n",
       "    array will be of complex type, unless the imaginary part is\n",
       "    zero in which case it will be cast to a real type. When `a`\n",
       "    is real the resulting eigenvalues will be real (0 imaginary\n",
       "    part) or occur in conjugate pairs\n",
       "\n",
       "v : (..., M, M) array\n",
       "    The normalized (unit \"length\") eigenvectors, such that the\n",
       "    column ``v[:,i]`` is the eigenvector corresponding to the\n",
       "    eigenvalue ``w[i]``.\n",
       "\n",
       "Raises\n",
       "------\n",
       "LinAlgError\n",
       "    If the eigenvalue computation does not converge.\n",
       "\n",
       "See Also\n",
       "--------\n",
       "eigvals : eigenvalues of a non-symmetric array.\n",
       "eigh : eigenvalues and eigenvectors of a real symmetric or complex\n",
       "       Hermitian (conjugate symmetric) array.\n",
       "eigvalsh : eigenvalues of a real symmetric or complex Hermitian\n",
       "           (conjugate symmetric) array.\n",
       "scipy.linalg.eig : Similar function in SciPy that also solves the\n",
       "                   generalized eigenvalue problem.\n",
       "scipy.linalg.schur : Best choice for unitary and other non-Hermitian\n",
       "                     normal matrices.\n",
       "\n",
       "Notes\n",
       "-----\n",
       "\n",
       ".. versionadded:: 1.8.0\n",
       "\n",
       "Broadcasting rules apply, see the `numpy.linalg` documentation for\n",
       "details.\n",
       "\n",
       "This is implemented using the ``_geev`` LAPACK routines which compute\n",
       "the eigenvalues and eigenvectors of general square arrays.\n",
       "\n",
       "The number `w` is an eigenvalue of `a` if there exists a vector\n",
       "`v` such that ``a @ v = w * v``. Thus, the arrays `a`, `w`, and\n",
       "`v` satisfy the equations ``a @ v[:,i] = w[i] * v[:,i]``\n",
       "for :math:`i \\in \\{0,...,M-1\\}`.\n",
       "\n",
       "The array `v` of eigenvectors may not be of maximum rank, that is, some\n",
       "of the columns may be linearly dependent, although round-off error may\n",
       "obscure that fact. If the eigenvalues are all different, then theoretically\n",
       "the eigenvectors are linearly independent and `a` can be diagonalized by\n",
       "a similarity transformation using `v`, i.e, ``inv(v) @ a @ v`` is diagonal.\n",
       "\n",
       "For non-Hermitian normal matrices the SciPy function `scipy.linalg.schur`\n",
       "is preferred because the matrix `v` is guaranteed to be unitary, which is\n",
       "not the case when using `eig`. The Schur factorization produces an\n",
       "upper triangular matrix rather than a diagonal matrix, but for normal\n",
       "matrices only the diagonal of the upper triangular matrix is needed, the\n",
       "rest is roundoff error.\n",
       "\n",
       "Finally, it is emphasized that `v` consists of the *right* (as in\n",
       "right-hand side) eigenvectors of `a`.  A vector `y` satisfying\n",
       "``y.T @ a = z * y.T`` for some number `z` is called a *left*\n",
       "eigenvector of `a`, and, in general, the left and right eigenvectors\n",
       "of a matrix are not necessarily the (perhaps conjugate) transposes\n",
       "of each other.\n",
       "\n",
       "References\n",
       "----------\n",
       "G. Strang, *Linear Algebra and Its Applications*, 2nd Ed., Orlando, FL,\n",
       "Academic Press, Inc., 1980, Various pp.\n",
       "\n",
       "Examples\n",
       "--------\n",
       ">>> from numpy import linalg as LA\n",
       "\n",
       "(Almost) trivial example with real e-values and e-vectors.\n",
       "\n",
       ">>> w, v = LA.eig(np.diag((1, 2, 3)))\n",
       ">>> w; v\n",
       "array([1., 2., 3.])\n",
       "array([[1., 0., 0.],\n",
       "       [0., 1., 0.],\n",
       "       [0., 0., 1.]])\n",
       "\n",
       "Real matrix possessing complex e-values and e-vectors; note that the\n",
       "e-values are complex conjugates of each other.\n",
       "\n",
       ">>> w, v = LA.eig(np.array([[1, -1], [1, 1]]))\n",
       ">>> w; v\n",
       "array([1.+1.j, 1.-1.j])\n",
       "array([[0.70710678+0.j        , 0.70710678-0.j        ],\n",
       "       [0.        -0.70710678j, 0.        +0.70710678j]])\n",
       "\n",
       "Complex-valued matrix with real e-values (but complex-valued e-vectors);\n",
       "note that ``a.conj().T == a``, i.e., `a` is Hermitian.\n",
       "\n",
       ">>> a = np.array([[1, 1j], [-1j, 1]])\n",
       ">>> w, v = LA.eig(a)\n",
       ">>> w; v\n",
       "array([2.+0.j, 0.+0.j])\n",
       "array([[ 0.        +0.70710678j,  0.70710678+0.j        ], # may vary\n",
       "       [ 0.70710678+0.j        , -0.        +0.70710678j]])\n",
       "\n",
       "Be careful about round-off error!\n",
       "\n",
       ">>> a = np.array([[1 + 1e-9, 0], [0, 1 - 1e-9]])\n",
       ">>> # Theor. e-values are 1 +/- 1e-9\n",
       ">>> w, v = LA.eig(a)\n",
       ">>> w; v\n",
       "array([1., 1.])\n",
       "array([[1., 0.],\n",
       "       [0., 1.]])\n",
       "\u001b[1;31mFile:\u001b[0m      c:\\users\\admin\\anaconda3\\lib\\site-packages\\numpy\\linalg\\linalg.py\n",
       "\u001b[1;31mType:\u001b[0m      function\n"
      ]
     },
     "metadata": {},
     "output_type": "display_data"
    }
   ],
   "source": [
    "?np.linalg.eig"
   ]
  },
  {
   "cell_type": "code",
   "execution_count": 80,
   "metadata": {},
   "outputs": [
    {
     "data": {
      "text/plain": [
       "\u001b[1;31mSignature:\u001b[0m\n",
       "\u001b[0mnp\u001b[0m\u001b[1;33m.\u001b[0m\u001b[0mcov\u001b[0m\u001b[1;33m(\u001b[0m\u001b[1;33m\n",
       "\u001b[0m    \u001b[0mm\u001b[0m\u001b[1;33m,\u001b[0m\u001b[1;33m\n",
       "\u001b[0m    \u001b[0my\u001b[0m\u001b[1;33m=\u001b[0m\u001b[1;32mNone\u001b[0m\u001b[1;33m,\u001b[0m\u001b[1;33m\n",
       "\u001b[0m    \u001b[0mrowvar\u001b[0m\u001b[1;33m=\u001b[0m\u001b[1;32mTrue\u001b[0m\u001b[1;33m,\u001b[0m\u001b[1;33m\n",
       "\u001b[0m    \u001b[0mbias\u001b[0m\u001b[1;33m=\u001b[0m\u001b[1;32mFalse\u001b[0m\u001b[1;33m,\u001b[0m\u001b[1;33m\n",
       "\u001b[0m    \u001b[0mddof\u001b[0m\u001b[1;33m=\u001b[0m\u001b[1;32mNone\u001b[0m\u001b[1;33m,\u001b[0m\u001b[1;33m\n",
       "\u001b[0m    \u001b[0mfweights\u001b[0m\u001b[1;33m=\u001b[0m\u001b[1;32mNone\u001b[0m\u001b[1;33m,\u001b[0m\u001b[1;33m\n",
       "\u001b[0m    \u001b[0maweights\u001b[0m\u001b[1;33m=\u001b[0m\u001b[1;32mNone\u001b[0m\u001b[1;33m,\u001b[0m\u001b[1;33m\n",
       "\u001b[0m    \u001b[1;33m*\u001b[0m\u001b[1;33m,\u001b[0m\u001b[1;33m\n",
       "\u001b[0m    \u001b[0mdtype\u001b[0m\u001b[1;33m=\u001b[0m\u001b[1;32mNone\u001b[0m\u001b[1;33m,\u001b[0m\u001b[1;33m\n",
       "\u001b[0m\u001b[1;33m)\u001b[0m\u001b[1;33m\u001b[0m\u001b[1;33m\u001b[0m\u001b[0m\n",
       "\u001b[1;31mDocstring:\u001b[0m\n",
       "Estimate a covariance matrix, given data and weights.\n",
       "\n",
       "Covariance indicates the level to which two variables vary together.\n",
       "If we examine N-dimensional samples, :math:`X = [x_1, x_2, ... x_N]^T`,\n",
       "then the covariance matrix element :math:`C_{ij}` is the covariance of\n",
       ":math:`x_i` and :math:`x_j`. The element :math:`C_{ii}` is the variance\n",
       "of :math:`x_i`.\n",
       "\n",
       "See the notes for an outline of the algorithm.\n",
       "\n",
       "Parameters\n",
       "----------\n",
       "m : array_like\n",
       "    A 1-D or 2-D array containing multiple variables and observations.\n",
       "    Each row of `m` represents a variable, and each column a single\n",
       "    observation of all those variables. Also see `rowvar` below.\n",
       "y : array_like, optional\n",
       "    An additional set of variables and observations. `y` has the same form\n",
       "    as that of `m`.\n",
       "rowvar : bool, optional\n",
       "    If `rowvar` is True (default), then each row represents a\n",
       "    variable, with observations in the columns. Otherwise, the relationship\n",
       "    is transposed: each column represents a variable, while the rows\n",
       "    contain observations.\n",
       "bias : bool, optional\n",
       "    Default normalization (False) is by ``(N - 1)``, where ``N`` is the\n",
       "    number of observations given (unbiased estimate). If `bias` is True,\n",
       "    then normalization is by ``N``. These values can be overridden by using\n",
       "    the keyword ``ddof`` in numpy versions >= 1.5.\n",
       "ddof : int, optional\n",
       "    If not ``None`` the default value implied by `bias` is overridden.\n",
       "    Note that ``ddof=1`` will return the unbiased estimate, even if both\n",
       "    `fweights` and `aweights` are specified, and ``ddof=0`` will return\n",
       "    the simple average. See the notes for the details. The default value\n",
       "    is ``None``.\n",
       "\n",
       "    .. versionadded:: 1.5\n",
       "fweights : array_like, int, optional\n",
       "    1-D array of integer frequency weights; the number of times each\n",
       "    observation vector should be repeated.\n",
       "\n",
       "    .. versionadded:: 1.10\n",
       "aweights : array_like, optional\n",
       "    1-D array of observation vector weights. These relative weights are\n",
       "    typically large for observations considered \"important\" and smaller for\n",
       "    observations considered less \"important\". If ``ddof=0`` the array of\n",
       "    weights can be used to assign probabilities to observation vectors.\n",
       "\n",
       "    .. versionadded:: 1.10\n",
       "dtype : data-type, optional\n",
       "    Data-type of the result. By default, the return data-type will have\n",
       "    at least `numpy.float64` precision.\n",
       "\n",
       "    .. versionadded:: 1.20\n",
       "\n",
       "Returns\n",
       "-------\n",
       "out : ndarray\n",
       "    The covariance matrix of the variables.\n",
       "\n",
       "See Also\n",
       "--------\n",
       "corrcoef : Normalized covariance matrix\n",
       "\n",
       "Notes\n",
       "-----\n",
       "Assume that the observations are in the columns of the observation\n",
       "array `m` and let ``f = fweights`` and ``a = aweights`` for brevity. The\n",
       "steps to compute the weighted covariance are as follows::\n",
       "\n",
       "    >>> m = np.arange(10, dtype=np.float64)\n",
       "    >>> f = np.arange(10) * 2\n",
       "    >>> a = np.arange(10) ** 2.\n",
       "    >>> ddof = 1\n",
       "    >>> w = f * a\n",
       "    >>> v1 = np.sum(w)\n",
       "    >>> v2 = np.sum(w * a)\n",
       "    >>> m -= np.sum(m * w, axis=None, keepdims=True) / v1\n",
       "    >>> cov = np.dot(m * w, m.T) * v1 / (v1**2 - ddof * v2)\n",
       "\n",
       "Note that when ``a == 1``, the normalization factor\n",
       "``v1 / (v1**2 - ddof * v2)`` goes over to ``1 / (np.sum(f) - ddof)``\n",
       "as it should.\n",
       "\n",
       "Examples\n",
       "--------\n",
       "Consider two variables, :math:`x_0` and :math:`x_1`, which\n",
       "correlate perfectly, but in opposite directions:\n",
       "\n",
       ">>> x = np.array([[0, 2], [1, 1], [2, 0]]).T\n",
       ">>> x\n",
       "array([[0, 1, 2],\n",
       "       [2, 1, 0]])\n",
       "\n",
       "Note how :math:`x_0` increases while :math:`x_1` decreases. The covariance\n",
       "matrix shows this clearly:\n",
       "\n",
       ">>> np.cov(x)\n",
       "array([[ 1., -1.],\n",
       "       [-1.,  1.]])\n",
       "\n",
       "Note that element :math:`C_{0,1}`, which shows the correlation between\n",
       ":math:`x_0` and :math:`x_1`, is negative.\n",
       "\n",
       "Further, note how `x` and `y` are combined:\n",
       "\n",
       ">>> x = [-2.1, -1,  4.3]\n",
       ">>> y = [3,  1.1,  0.12]\n",
       ">>> X = np.stack((x, y), axis=0)\n",
       ">>> np.cov(X)\n",
       "array([[11.71      , -4.286     ], # may vary\n",
       "       [-4.286     ,  2.144133]])\n",
       ">>> np.cov(x, y)\n",
       "array([[11.71      , -4.286     ], # may vary\n",
       "       [-4.286     ,  2.144133]])\n",
       ">>> np.cov(x)\n",
       "array(11.71)\n",
       "\u001b[1;31mFile:\u001b[0m      c:\\users\\admin\\anaconda3\\lib\\site-packages\\numpy\\lib\\function_base.py\n",
       "\u001b[1;31mType:\u001b[0m      function\n"
      ]
     },
     "metadata": {},
     "output_type": "display_data"
    }
   ],
   "source": [
    "?np.cov"
   ]
  },
  {
   "cell_type": "code",
   "execution_count": 81,
   "metadata": {},
   "outputs": [
    {
     "data": {
      "text/plain": [
       "\u001b[1;31mSignature:\u001b[0m\n",
       " \u001b[0mpd\u001b[0m\u001b[1;33m.\u001b[0m\u001b[0mDataFrame\u001b[0m\u001b[1;33m.\u001b[0m\u001b[0mcov\u001b[0m\u001b[1;33m(\u001b[0m\u001b[1;33m\n",
       "\u001b[0m    \u001b[0mself\u001b[0m\u001b[1;33m,\u001b[0m\u001b[1;33m\n",
       "\u001b[0m    \u001b[0mmin_periods\u001b[0m\u001b[1;33m:\u001b[0m \u001b[1;34m'Optional[int]'\u001b[0m \u001b[1;33m=\u001b[0m \u001b[1;32mNone\u001b[0m\u001b[1;33m,\u001b[0m\u001b[1;33m\n",
       "\u001b[0m    \u001b[0mddof\u001b[0m\u001b[1;33m:\u001b[0m \u001b[1;34m'Optional[int]'\u001b[0m \u001b[1;33m=\u001b[0m \u001b[1;36m1\u001b[0m\u001b[1;33m,\u001b[0m\u001b[1;33m\n",
       "\u001b[0m\u001b[1;33m)\u001b[0m \u001b[1;33m->\u001b[0m \u001b[1;34m'DataFrame'\u001b[0m\u001b[1;33m\u001b[0m\u001b[1;33m\u001b[0m\u001b[0m\n",
       "\u001b[1;31mDocstring:\u001b[0m\n",
       "Compute pairwise covariance of columns, excluding NA/null values.\n",
       "\n",
       "Compute the pairwise covariance among the series of a DataFrame.\n",
       "The returned data frame is the `covariance matrix\n",
       "<https://en.wikipedia.org/wiki/Covariance_matrix>`__ of the columns\n",
       "of the DataFrame.\n",
       "\n",
       "Both NA and null values are automatically excluded from the\n",
       "calculation. (See the note below about bias from missing values.)\n",
       "A threshold can be set for the minimum number of\n",
       "observations for each value created. Comparisons with observations\n",
       "below this threshold will be returned as ``NaN``.\n",
       "\n",
       "This method is generally used for the analysis of time series data to\n",
       "understand the relationship between different measures\n",
       "across time.\n",
       "\n",
       "Parameters\n",
       "----------\n",
       "min_periods : int, optional\n",
       "    Minimum number of observations required per pair of columns\n",
       "    to have a valid result.\n",
       "\n",
       "ddof : int, default 1\n",
       "    Delta degrees of freedom.  The divisor used in calculations\n",
       "    is ``N - ddof``, where ``N`` represents the number of elements.\n",
       "\n",
       "    .. versionadded:: 1.1.0\n",
       "\n",
       "Returns\n",
       "-------\n",
       "DataFrame\n",
       "    The covariance matrix of the series of the DataFrame.\n",
       "\n",
       "See Also\n",
       "--------\n",
       "Series.cov : Compute covariance with another Series.\n",
       "core.window.ExponentialMovingWindow.cov: Exponential weighted sample covariance.\n",
       "core.window.Expanding.cov : Expanding sample covariance.\n",
       "core.window.Rolling.cov : Rolling sample covariance.\n",
       "\n",
       "Notes\n",
       "-----\n",
       "Returns the covariance matrix of the DataFrame's time series.\n",
       "The covariance is normalized by N-ddof.\n",
       "\n",
       "For DataFrames that have Series that are missing data (assuming that\n",
       "data is `missing at random\n",
       "<https://en.wikipedia.org/wiki/Missing_data#Missing_at_random>`__)\n",
       "the returned covariance matrix will be an unbiased estimate\n",
       "of the variance and covariance between the member Series.\n",
       "\n",
       "However, for many applications this estimate may not be acceptable\n",
       "because the estimate covariance matrix is not guaranteed to be positive\n",
       "semi-definite. This could lead to estimate correlations having\n",
       "absolute values which are greater than one, and/or a non-invertible\n",
       "covariance matrix. See `Estimation of covariance matrices\n",
       "<https://en.wikipedia.org/w/index.php?title=Estimation_of_covariance_\n",
       "matrices>`__ for more details.\n",
       "\n",
       "Examples\n",
       "--------\n",
       ">>> df = pd.DataFrame([(1, 2), (0, 3), (2, 0), (1, 1)],\n",
       "...                   columns=['dogs', 'cats'])\n",
       ">>> df.cov()\n",
       "          dogs      cats\n",
       "dogs  0.666667 -1.000000\n",
       "cats -1.000000  1.666667\n",
       "\n",
       ">>> np.random.seed(42)\n",
       ">>> df = pd.DataFrame(np.random.randn(1000, 5),\n",
       "...                   columns=['a', 'b', 'c', 'd', 'e'])\n",
       ">>> df.cov()\n",
       "          a         b         c         d         e\n",
       "a  0.998438 -0.020161  0.059277 -0.008943  0.014144\n",
       "b -0.020161  1.059352 -0.008543 -0.024738  0.009826\n",
       "c  0.059277 -0.008543  1.010670 -0.001486 -0.000271\n",
       "d -0.008943 -0.024738 -0.001486  0.921297 -0.013692\n",
       "e  0.014144  0.009826 -0.000271 -0.013692  0.977795\n",
       "\n",
       "**Minimum number of periods**\n",
       "\n",
       "This method also supports an optional ``min_periods`` keyword\n",
       "that specifies the required minimum number of non-NA observations for\n",
       "each column pair in order to have a valid result:\n",
       "\n",
       ">>> np.random.seed(42)\n",
       ">>> df = pd.DataFrame(np.random.randn(20, 3),\n",
       "...                   columns=['a', 'b', 'c'])\n",
       ">>> df.loc[df.index[:5], 'a'] = np.nan\n",
       ">>> df.loc[df.index[5:10], 'b'] = np.nan\n",
       ">>> df.cov(min_periods=12)\n",
       "          a         b         c\n",
       "a  0.316741       NaN -0.150812\n",
       "b       NaN  1.248003  0.191417\n",
       "c -0.150812  0.191417  0.895202\n",
       "\u001b[1;31mFile:\u001b[0m      c:\\users\\admin\\anaconda3\\lib\\site-packages\\pandas\\core\\frame.py\n",
       "\u001b[1;31mType:\u001b[0m      function\n"
      ]
     },
     "metadata": {},
     "output_type": "display_data"
    }
   ],
   "source": [
    "? pd.DataFrame.cov"
   ]
  },
  {
   "cell_type": "code",
   "execution_count": null,
   "metadata": {},
   "outputs": [],
   "source": []
  }
 ],
 "metadata": {
  "kernelspec": {
   "display_name": "Python 3",
   "language": "python",
   "name": "python3"
  },
  "language_info": {
   "codemirror_mode": {
    "name": "ipython",
    "version": 3
   },
   "file_extension": ".py",
   "mimetype": "text/x-python",
   "name": "python",
   "nbconvert_exporter": "python",
   "pygments_lexer": "ipython3",
   "version": "3.7.10"
  }
 },
 "nbformat": 4,
 "nbformat_minor": 4
}
